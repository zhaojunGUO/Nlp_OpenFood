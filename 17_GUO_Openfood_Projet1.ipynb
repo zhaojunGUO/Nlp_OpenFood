{
  "nbformat": 4,
  "nbformat_minor": 0,
  "metadata": {
    "colab": {
      "name": "17 GUO Openfood_Projet1.ipynb",
      "provenance": [],
      "collapsed_sections": []
    },
    "kernelspec": {
      "name": "python3",
      "display_name": "Python 3"
    },
    "language_info": {
      "name": "python"
    }
  },
  "cells": [
    {
      "cell_type": "markdown",
      "metadata": {
        "id": "t0v0rWMz7Qfn"
      },
      "source": [
        "DIA2\n",
        "ZHAOJUN GUO&\n",
        "MUCHAN DENG\n",
        "\n",
        "\n"
      ]
    },
    {
      "cell_type": "code",
      "metadata": {
        "id": "Vcmos6CuLRHq"
      },
      "source": [
        "import numpy as np\n",
        "import pandas as pd \n",
        "import matplotlib.pyplot as plt\n",
        "%matplotlib inline\n",
        "\n",
        "import seaborn as sns\n",
        "sns.set()\n",
        "\n",
        "from sklearn.mixture import GaussianMixture\n",
        "from matplotlib.colors import LogNorm\n",
        "from matplotlib.ticker import MaxNLocator"
      ],
      "execution_count": null,
      "outputs": []
    },
    {
      "cell_type": "markdown",
      "metadata": {
        "id": "9S8_rljBpz1t"
      },
      "source": [
        "# Open the data from Google drive"
      ]
    },
    {
      "cell_type": "markdown",
      "metadata": {
        "id": "XA-cxH5Lppqd"
      },
      "source": [
        "Because of the volume of the data,it is difficult to open directely,so we uploaded to our drive."
      ]
    },
    {
      "cell_type": "code",
      "metadata": {
        "id": "AY_VYoTfieAh",
        "colab": {
          "base_uri": "https://localhost:8080/"
        },
        "outputId": "976bb274-3fdc-4274-ac84-bc6362ba7683"
      },
      "source": [
        "import os\n",
        "from google.colab import drive\n",
        "drive.mount('/content/drive')\n",
        "\n",
        "path = \"/content/drive/My Drive/Openfood/\"\n",
        "\n",
        "os.chdir(path)\n",
        "os.listdir(path)"
      ],
      "execution_count": null,
      "outputs": [
        {
          "output_type": "stream",
          "name": "stdout",
          "text": [
            "Drive already mounted at /content/drive; to attempt to forcibly remount, call drive.mount(\"/content/drive\", force_remount=True).\n"
          ]
        },
        {
          "output_type": "execute_result",
          "data": {
            "text/plain": [
              "['openfoodfacts.csv']"
            ]
          },
          "metadata": {},
          "execution_count": 2
        }
      ]
    },
    {
      "cell_type": "code",
      "metadata": {
        "colab": {
          "base_uri": "https://localhost:8080/"
        },
        "id": "RmXkgQzYaEHc",
        "outputId": "9f126473-db3c-44c8-bafa-af95829b038a"
      },
      "source": [
        "import pandas as pd\n",
        "openfoods=pd.read_csv(\"openfoodfacts.csv\",sep='\\t')"
      ],
      "execution_count": null,
      "outputs": [
        {
          "output_type": "stream",
          "name": "stderr",
          "text": [
            "/usr/local/lib/python3.7/dist-packages/IPython/core/interactiveshell.py:2718: DtypeWarning: Columns (0,8,13,27,28,29,31,52,55,64,66) have mixed types.Specify dtype option on import or set low_memory=False.\n",
            "  interactivity=interactivity, compiler=compiler, result=result)\n"
          ]
        }
      ]
    },
    {
      "cell_type": "markdown",
      "metadata": {
        "id": "pKtWWn7yqbVc"
      },
      "source": [
        "# Data cleaning"
      ]
    },
    {
      "cell_type": "markdown",
      "metadata": {
        "id": "nO2qppP3fj6o"
      },
      "source": [
        "This is a dataset of food products listing the ingredients and nutritional facts ( _100g) of more than 300,000 foods from over 150 countries in the world.\n",
        "The data is meant to be free to the public to help users decode food labels, and make better food choices in general.\n",
        "The dataset contains more than 300,000 rows over 163 columns. However, as we will see there are a lot of missing or obviously incorrect values.\n",
        "- fields that end with _t are dates in the UNIX timestamp format (number of seconds since Jan 1st 1970)\n",
        "- fields that end with _datetime are dates in the iso8601 format: yyyy-mm-ddThh:mn:ssZ\n",
        "- fields that end with _tags are comma-separated list of tags (e.g. categories_tags is the set of normalized tags computer from the categories field)\n",
        "- fields that end with a language 2 letter code (e.g. fr for French) is the set of tags in that language\n",
        "- fields that end with _100g correspond to the amount of a nutrient (in g, or kJ for energy) for 100 g or 100 ml of product\n",
        "- fields that end with _serving correspond to the amount of a nutrient (in g, or kJ for energy) for 1 serving of the product\n",
        "\n",
        "- nutrition-score-fr_100g : experimental nutrition score derived from the UK FSA score and adapted for the French market (these fields are of numeric, ranging from -15 to 40. The lower the score, the better)\n",
        "- nutrition-score-uk_100g : nutrition score defined by the UK Food Standards Administration (these fields are of numeric, ranging from -15 to 40. The lower the score, the better)\n",
        "- nutrition_grade_fr_100g : Seems to be a simple categorization of the score into A, B, C, D, and E (The UK equivalent contains mostly NaNs)"
      ]
    },
    {
      "cell_type": "code",
      "metadata": {
        "colab": {
          "base_uri": "https://localhost:8080/"
        },
        "id": "TNOsOJVZ_g13",
        "outputId": "6a843dcb-e44c-416b-f37a-5e6fc1054aa7"
      },
      "source": [
        "print(\"This data is really messy! \\nthe 'countries_en' column contians {} \\\"unique\\\" countries \".format(openfoods['countries_en'].dropna().unique().shape[0]))"
      ],
      "execution_count": null,
      "outputs": [
        {
          "output_type": "stream",
          "name": "stdout",
          "text": [
            "This data is really messy! \n",
            "the 'countries_en' column contians 4301 \"unique\" countries \n"
          ]
        }
      ]
    },
    {
      "cell_type": "code",
      "metadata": {
        "colab": {
          "base_uri": "https://localhost:8080/"
        },
        "id": "Nv0s4GA97M2Z",
        "outputId": "990f4073-9c27-44c7-cdd1-b0a0224829f5"
      },
      "source": [
        "openfoods.isnull().sum().sort_values()"
      ],
      "execution_count": null,
      "outputs": [
        {
          "output_type": "execute_result",
          "data": {
            "text/plain": [
              "code                                 0\n",
              "url                                  0\n",
              "created_t                            0\n",
              "created_datetime                     0\n",
              "last_modified_t                      0\n",
              "                                ...   \n",
              "-eicosapentaenoic-acid_100g    2013584\n",
              "-alpha-linolenic-acid_100g     2013584\n",
              "-melissic-acid_100g            2013584\n",
              "-elaidic-acid_100g             2013584\n",
              "-montanic-acid_100g            2013584\n",
              "Length: 187, dtype: int64"
            ]
          },
          "metadata": {},
          "execution_count": 6
        }
      ]
    },
    {
      "cell_type": "code",
      "metadata": {
        "colab": {
          "base_uri": "https://localhost:8080/"
        },
        "id": "c3XN0Oj6b9Bw",
        "outputId": "aaa59aaf-a703-4e5e-b957-f894c381ca5e"
      },
      "source": [
        "openfoods.countries.value_counts().head(10)"
      ],
      "execution_count": null,
      "outputs": [
        {
          "output_type": "execute_result",
          "data": {
            "text/plain": [
              "France           435195\n",
              "United States    310605\n",
              "en:fr            207754\n",
              "en:es            104001\n",
              "en:it             96762\n",
              "España            86818\n",
              "en:france         76436\n",
              "en:us             45009\n",
              "en:be             33622\n",
              "en:ca             28276\n",
              "Name: countries, dtype: int64"
            ]
          },
          "metadata": {},
          "execution_count": 7
        }
      ]
    },
    {
      "cell_type": "code",
      "metadata": {
        "id": "OwZ0uGOCc70o"
      },
      "source": [
        "openfoods_us=openfoods[(openfoods['countries']=='United States')|(openfoods['countries']=='en:us')]\n"
      ],
      "execution_count": null,
      "outputs": []
    },
    {
      "cell_type": "code",
      "metadata": {
        "id": "z-sIAV3l61rD"
      },
      "source": [
        "nutrition_table_cols = [\"product_name\",\"categories\",\"ingredients_text\",\"fat_100g\", \"carbohydrates_100g\", \"sugars_100g\", \"proteins_100g\", \"salt_100g\", \"energy_100g\"]\n",
        "new_openfoods = openfoods_us[nutrition_table_cols].copy()"
      ],
      "execution_count": null,
      "outputs": []
    },
    {
      "cell_type": "code",
      "metadata": {
        "id": "omoZubTEisbv"
      },
      "source": [
        "# drop all rows that (after dropping some columns) only contain NaNs\n",
        "new_openfoods = new_openfoods.dropna(axis=0, how='all') "
      ],
      "execution_count": null,
      "outputs": []
    },
    {
      "cell_type": "code",
      "metadata": {
        "id": "ZsKmX-Uaju2N"
      },
      "source": [
        "new_openfoods['product_name'].fillna(value='Product name unavailable', inplace=True)"
      ],
      "execution_count": null,
      "outputs": []
    },
    {
      "cell_type": "code",
      "metadata": {
        "colab": {
          "base_uri": "https://localhost:8080/"
        },
        "id": "BQMhp-F3j5Gm",
        "outputId": "23eab180-5f78-4ae0-9aab-167b343a9de9"
      },
      "source": [
        "# We check whether there are any duplicates in our data (this excludes out index-column)\n",
        "new_openfoods.duplicated().sum()"
      ],
      "execution_count": null,
      "outputs": [
        {
          "output_type": "execute_result",
          "data": {
            "text/plain": [
              "14395"
            ]
          },
          "metadata": {},
          "execution_count": 12
        }
      ]
    },
    {
      "cell_type": "code",
      "metadata": {
        "id": "kvrzsQ2I78eC"
      },
      "source": [
        "# We drop all duplicates from our data\n",
        "new_openfoods.drop_duplicates(inplace=True)"
      ],
      "execution_count": null,
      "outputs": []
    },
    {
      "cell_type": "code",
      "metadata": {
        "colab": {
          "base_uri": "https://localhost:8080/"
        },
        "id": "k9s4s3yx7_91",
        "outputId": "9e2a32ba-3630-4d8f-df3a-9f04ba18890b"
      },
      "source": [
        "new_openfoods.isnull().sum().sort_values()"
      ],
      "execution_count": null,
      "outputs": [
        {
          "output_type": "execute_result",
          "data": {
            "text/plain": [
              "product_name              0\n",
              "fat_100g               7555\n",
              "carbohydrates_100g     7866\n",
              "proteins_100g          7990\n",
              "energy_100g            8144\n",
              "salt_100g             13580\n",
              "sugars_100g           20781\n",
              "ingredients_text      45656\n",
              "categories            69302\n",
              "dtype: int64"
            ]
          },
          "metadata": {},
          "execution_count": 14
        }
      ]
    },
    {
      "cell_type": "code",
      "metadata": {
        "id": "V1T3UVGj8Mmv"
      },
      "source": [
        "new_openfoods=new_openfoods.dropna()"
      ],
      "execution_count": null,
      "outputs": []
    },
    {
      "cell_type": "code",
      "metadata": {
        "colab": {
          "base_uri": "https://localhost:8080/"
        },
        "id": "9N3O5M-Zj5-s",
        "outputId": "519fac63-7d87-47d1-e23b-037088c989eb"
      },
      "source": [
        "new_openfoods.isnull().sum().sort_values()"
      ],
      "execution_count": null,
      "outputs": [
        {
          "output_type": "execute_result",
          "data": {
            "text/plain": [
              "product_name          0\n",
              "categories            0\n",
              "ingredients_text      0\n",
              "fat_100g              0\n",
              "carbohydrates_100g    0\n",
              "sugars_100g           0\n",
              "proteins_100g         0\n",
              "salt_100g             0\n",
              "energy_100g           0\n",
              "dtype: int64"
            ]
          },
          "metadata": {},
          "execution_count": 16
        }
      ]
    },
    {
      "cell_type": "code",
      "metadata": {
        "colab": {
          "base_uri": "https://localhost:8080/"
        },
        "id": "9TVD2kfkjTcn",
        "outputId": "4ab37389-3930-411f-886b-2a523d34e47c"
      },
      "source": [
        "len(new_openfoods)"
      ],
      "execution_count": null,
      "outputs": [
        {
          "output_type": "execute_result",
          "data": {
            "text/plain": [
              "252265"
            ]
          },
          "metadata": {},
          "execution_count": 17
        }
      ]
    },
    {
      "cell_type": "markdown",
      "metadata": {
        "id": "TFTwu-Mo8dea"
      },
      "source": [
        "So we have finished the data cleaning and we begin to do the processing of the ingredient vocabulary"
      ]
    },
    {
      "cell_type": "markdown",
      "metadata": {
        "id": "IovKtU428eK2"
      },
      "source": [
        "# Processing the ingredient vocabulary"
      ]
    },
    {
      "cell_type": "code",
      "metadata": {
        "id": "goYX6D_8bOHA"
      },
      "source": [
        "ingredient=new_openfoods['ingredients_text']"
      ],
      "execution_count": null,
      "outputs": []
    },
    {
      "cell_type": "code",
      "metadata": {
        "colab": {
          "base_uri": "https://localhost:8080/"
        },
        "id": "k8EedeeadlSU",
        "outputId": "cf2081df-e8e6-44c2-9274-88342e9f10a4"
      },
      "source": [
        "ingredient"
      ],
      "execution_count": null,
      "outputs": [
        {
          "output_type": "execute_result",
          "data": {
            "text/plain": [
              "287                       Cranberries, sugar, sunflower oil.\n",
              "531        Unbleached enriched flour (wheat flour, barley...\n",
              "535        Wheatflour, sugar, eggs, soybean oil, water, c...\n",
              "541        Pastry: unbleached wheat flour (wheat flour, m...\n",
              "818        Canola oil, Water, Palm oil, Palm kernel oil, ...\n",
              "                                 ...                        \n",
              "2010240    milk**, sugar, cocoa butter, cocoa mass, veget...\n",
              "2010593    Concentrated grape-juice, balsamic vinegar of ...\n",
              "2010634            ORGANIC GROUND rbohydrate 10q Fiber 2g 3%\n",
              "2011947                                             Cassava.\n",
              "2013312    Organic almondmilk (filtered water, organic al...\n",
              "Name: ingredients_text, Length: 252265, dtype: object"
            ]
          },
          "metadata": {},
          "execution_count": 19
        }
      ]
    },
    {
      "cell_type": "code",
      "metadata": {
        "id": "9m6IJt15lF9u",
        "colab": {
          "base_uri": "https://localhost:8080/"
        },
        "outputId": "608c43c7-16fc-47f1-a04e-b12b28f14b69"
      },
      "source": [
        "ingredient=list(ingredient.values)\n",
        "len(ingredient)"
      ],
      "execution_count": null,
      "outputs": [
        {
          "output_type": "execute_result",
          "data": {
            "text/plain": [
              "252265"
            ]
          },
          "metadata": {},
          "execution_count": 20
        }
      ]
    },
    {
      "cell_type": "markdown",
      "metadata": {
        "id": "o_LRqTvp5lgc"
      },
      "source": [
        "\n",
        "1) Define and clean the vocabulary of ingredients, do you find some mistakes ? How do you manage them ? Propose solutions to manage/identify errors."
      ]
    },
    {
      "cell_type": "code",
      "metadata": {
        "id": "nVez51yqmPDj"
      },
      "source": [
        "import re\n",
        "import string\n",
        "import numpy as np\n",
        "\n",
        "from nltk.corpus import stopwords\n",
        "from nltk.stem import PorterStemmer\n",
        "from nltk.tokenize import TweetTokenizer"
      ],
      "execution_count": null,
      "outputs": []
    },
    {
      "cell_type": "code",
      "metadata": {
        "colab": {
          "base_uri": "https://localhost:8080/"
        },
        "id": "EXgx1xWLmVqx",
        "outputId": "fb79b6a3-55c0-446f-ceda-cd2f44773450"
      },
      "source": [
        "import nltk\n",
        "nltk.download('stopwords')"
      ],
      "execution_count": null,
      "outputs": [
        {
          "output_type": "stream",
          "name": "stdout",
          "text": [
            "[nltk_data] Downloading package stopwords to /root/nltk_data...\n",
            "[nltk_data]   Package stopwords is already up-to-date!\n"
          ]
        },
        {
          "output_type": "execute_result",
          "data": {
            "text/plain": [
              "True"
            ]
          },
          "metadata": {},
          "execution_count": 22
        }
      ]
    },
    {
      "cell_type": "code",
      "metadata": {
        "colab": {
          "base_uri": "https://localhost:8080/"
        },
        "id": "IT0ADnh7mXfl",
        "outputId": "33d65ccd-aa62-4b47-9cf8-43ed5b9c98ce"
      },
      "source": [
        "import nltk\n",
        "nltk.download('punkt')\n",
        "tokenizer=nltk.data.load('tokenizers/punkt/english.pickle')"
      ],
      "execution_count": null,
      "outputs": [
        {
          "output_type": "stream",
          "name": "stdout",
          "text": [
            "[nltk_data] Downloading package punkt to /root/nltk_data...\n",
            "[nltk_data]   Package punkt is already up-to-date!\n"
          ]
        }
      ]
    },
    {
      "cell_type": "code",
      "metadata": {
        "colab": {
          "base_uri": "https://localhost:8080/"
        },
        "id": "80gHqRXsmfjL",
        "outputId": "f3b38fb1-ff89-4ac4-e058-ba8cbcf958a9"
      },
      "source": [
        "from nltk.stem import WordNetLemmatizer\n",
        "lemmatizer_output=WordNetLemmatizer()\n",
        "nltk.download('wordnet')"
      ],
      "execution_count": null,
      "outputs": [
        {
          "output_type": "stream",
          "name": "stdout",
          "text": [
            "[nltk_data] Downloading package wordnet to /root/nltk_data...\n",
            "[nltk_data]   Package wordnet is already up-to-date!\n"
          ]
        },
        {
          "output_type": "execute_result",
          "data": {
            "text/plain": [
              "True"
            ]
          },
          "metadata": {},
          "execution_count": 24
        }
      ]
    },
    {
      "cell_type": "markdown",
      "metadata": {
        "id": "p1yx_PjEBgjp"
      },
      "source": [
        "We want to delete the english number after the tokenizer,but the type of the number is string,for exemple:\"1.6\""
      ]
    },
    {
      "cell_type": "code",
      "metadata": {
        "id": "xXw9keaZptaq"
      },
      "source": [
        "def is_number(s):\n",
        "    try:  # return true if can execute float(s)\n",
        "        float(s)\n",
        "        return True\n",
        "    except ValueError:  \n",
        "        pass  \n",
        "    try:\n",
        "        import unicodedata  # package of ASCii processing\n",
        "        unicodedata.numeric(s)  # convert a string typed number to a float\n",
        "        return True\n",
        "    except (TypeError, ValueError):\n",
        "        pass\n",
        "    return False"
      ],
      "execution_count": null,
      "outputs": []
    },
    {
      "cell_type": "markdown",
      "metadata": {
        "id": "j4JIb4WbCPXk"
      },
      "source": [
        "In this dataset,there is not only the english,but also a few of French,so there will be have the number like:\"1,7\",so we decide to clean after we do the tokenizer"
      ]
    },
    {
      "cell_type": "code",
      "metadata": {
        "id": "r6zMPpc99KBe"
      },
      "source": [
        "'''\n",
        "def sub_france_number(sweet):\n",
        "  for i in range(len(sweet)):\n",
        "    word=re.sub(r'(\\d{1,3}(?:(?:[. \\u00A0])?\\d{3})*(?:,\\d+)?(?!\\d))','',sweet[i])\n",
        "    sweet[i]=word  \n",
        "  return sweet\n",
        "  '''"
      ],
      "execution_count": null,
      "outputs": []
    },
    {
      "cell_type": "code",
      "metadata": {
        "id": "GEod_XKel-hh"
      },
      "source": [
        "def process_tweet(tweet):\n",
        "    stemmer = PorterStemmer()\n",
        "    stopwords_english = stopwords.words('english')\n",
        "    # remove stock market tickers like $GE\n",
        "    tweet = re.sub(r'\\$\\w*', '', tweet)\n",
        "    # remove hyperlinks\n",
        "    tweet = re.sub(r'https?:\\/\\/.*[\\r\\n]*', '', tweet)\n",
        "    # remove hashtags\n",
        "    tweet = re.sub(r'[z0-9]','', tweet)\n",
        "    # only removing the hash # %sign from the word\n",
        "    tweet = re.sub(r'#', '', tweet)\n",
        "    tweet = re.sub(r'%', '', tweet)\n",
        "    tweet = re.sub(r'&', '', tweet)\n",
        "    # tokenize tweets\n",
        "    tokenizer = TweetTokenizer(preserve_case=False, strip_handles=True,\n",
        "                               reduce_len=True)\n",
        "    tweet_tokens = tokenizer.tokenize(tweet)\n",
        "    punctuation = '!,;:?\"\\'、，；)(.'\n",
        "#    tweet_tokens=tweet.split(',')\n",
        "    tweets_clean = []\n",
        "    for word in tweet_tokens:\n",
        "        if (word not in stopwords_english and  # remove stopwords\n",
        "                word not in string.punctuation and is_number(word)==False):  \n",
        "                # remove punctuation \n",
        "                #remove englidh numbers\n",
        "            # tweets_clean.append(word)\n",
        "            text_word=lemmatizer_output.lemmatize(word)\n",
        "            stem_word = stemmer.stem(word)\n",
        "            stem_word = re.sub(r'[{}]+'.format(punctuation),'',stem_word)  # stemming word\n",
        "            tweets_clean.append(stem_word)\n",
        "# remove frenche number    \n",
        "#    tweets_clean=sub_france_number(tweets_clean)\n",
        "    \n",
        "#remove the duplicate\n",
        "    tweets_clean=list(set(tweets_clean))\n",
        "\n",
        "    return tweets_clean"
      ],
      "execution_count": null,
      "outputs": []
    },
    {
      "cell_type": "code",
      "metadata": {
        "id": "0YWy6pSzmE9H"
      },
      "source": [
        "new_ingredient=[]\n",
        "for i in range(len(ingredient)):\n",
        "  process=process_tweet(ingredient[i])\n",
        "  new_ingredient.append(process)"
      ],
      "execution_count": null,
      "outputs": []
    },
    {
      "cell_type": "code",
      "metadata": {
        "id": "5s-yg4O2uxUw"
      },
      "source": [
        "import nltk\n",
        "vocabulary = nltk.FreqDist()"
      ],
      "execution_count": null,
      "outputs": []
    },
    {
      "cell_type": "code",
      "metadata": {
        "id": "aapqRk28u0ZG",
        "colab": {
          "base_uri": "https://localhost:8080/"
        },
        "outputId": "f35e29e2-bc4a-4457-f59f-a1b752921fb4"
      },
      "source": [
        "# This was done once I had already preprocessed the ingredients\n",
        "new_list=[]\n",
        "for ingredients in new_ingredient:\n",
        "    for i in ingredients:\n",
        "      new_list.append(i)\n",
        "    vocabulary.update(ingredients)\n",
        "for word, frequency in vocabulary.most_common(200):\n",
        "    print(f'{word};{frequency}')"
      ],
      "execution_count": null,
      "outputs": [
        {
          "output_type": "stream",
          "name": "stdout",
          "text": [
            "salt;164693\n",
            "sugar;136679\n",
            "flavor;125264\n",
            "water;117743\n",
            "acid;115598\n",
            "oil;113077\n",
            "natur;110068\n",
            "corn;91625\n",
            "milk;79667\n",
            "flour;70314\n",
            "syrup;68191\n",
            "citric;67288\n",
            "sodium;67211\n",
            "color;66312\n",
            "wheat;63561\n",
            "starch;59055\n",
            "soy;57015\n",
            "gum;56031\n",
            "less;54593\n",
            "powder;54033\n",
            "contain;53878\n",
            "soybean;50797\n",
            "lecithin;47600\n",
            "artifici;46272\n",
            "garlic;46121\n",
            "spice;45531\n",
            "extract;44560\n",
            "thiamin;43764\n",
            "folic;43065\n",
            "onion;43013\n",
            "riboflavin;42447\n",
            "cultur;42426\n",
            "juic;41060\n",
            "mononitr;40925\n",
            "red;40866\n",
            "phosphat;39999\n",
            "iron;39675\n",
            "niacin;39488\n",
            "veget;38746\n",
            "calcium;37867\n",
            "modifi;36693\n",
            "palm;36331\n",
            "preserv;36289\n",
            "concentr;36150\n",
            "enrich;35410\n",
            "vinegar;34601\n",
            "yeast;34012\n",
            "potassium;33523\n",
            "vitamin;33358\n",
            "enym;33304\n",
            "canola;32738\n",
            "butter;32709\n",
            "pepper;32173\n",
            "whey;31880\n",
            "dextros;31611\n",
            "sea;31170\n",
            "cocoa;31039\n",
            "reduc;30507\n",
            "cream;29433\n",
            "dri;29002\n",
            "xanthan;28992\n",
            "pasteuri;28987\n",
            "yellow;28890\n",
            "organ;28775\n",
            "whole;27617\n",
            "egg;27548\n",
            "sunflow;27547\n",
            "chees;26970\n",
            "tomato;24728\n",
            "bean;24288\n",
            "maltodextrin;24264\n",
            "cane;24101\n",
            "fructos;24085\n",
            "ascorb;23855\n",
            "white;23665\n",
            "high;23256\n",
            "rice;22948\n",
            "nonfat;22795\n",
            "protein;22412\n",
            "diglycerid;21556\n",
            "caramel;21295\n",
            "guar;21273\n",
            "mono;21031\n",
            "chocol;20534\n",
            "sorbat;20448\n",
            "bake;20111\n",
            "malt;20064\n",
            "vanilla;19997\n",
            "blue;18989\n",
            "paprika;18860\n",
            "food;18745\n",
            "brown;18487\n",
            "barley;18358\n",
            "potato;18248\n",
            "pure;17983\n",
            "soda;17922\n",
            "seed;17897\n",
            "coconut;17551\n",
            "sulfat;16752\n",
            "follow;16742\n",
            "skim;16633\n",
            "annatto;16318\n",
            "fresh;16103\n",
            "lemon;15777\n",
            "benoat;15765\n",
            "lactic;15683\n",
            "process;15658\n",
            "ad;15255\n",
            "disodium;15222\n",
            "bicarbon;15214\n",
            "hydrogen;15208\n",
            "carrageenan;15184\n",
            "cellulos;15039\n",
            "dioxid;14757\n",
            "emulsifi;14679\n",
            "appl;14574\n",
            "kernel;14234\n",
            "cornstarch;13927\n",
            "alkali;13832\n",
            "black;13806\n",
            "solid;13769\n",
            "carbon;13658\n",
            "honey;13580\n",
            "dehydr;13514\n",
            "palmit;13480\n",
            "past;13466\n",
            "citrat;13450\n",
            "chlorid;13449\n",
            "green;13245\n",
            "distil;13235\n",
            "turmer;13151\n",
            "fat;13135\n",
            "b;13080\n",
            "sauc;12724\n",
            "leaven;12706\n",
            "gluten;12669\n",
            "peanut;12477\n",
            "tapioca;12386\n",
            "almond;12266\n",
            "bleach;12084\n",
            "monocalcium;11734\n",
            "molass;11701\n",
            "cottonse;11660\n",
            "carrot;11613\n",
            "oat;11366\n",
            "oliv;11145\n",
            "pyrophosph;10976\n",
            "c;10535\n",
            "grain;10534\n",
            "pectin;10343\n",
            "blend;10124\n",
            "chicken;9621\n",
            "season;9542\n",
            "roast;9423\n",
            "polysorb;9323\n",
            "propion;9291\n",
            "celeri;9219\n",
            "beef;9137\n",
            "cheddar;8892\n",
            "fruit;8827\n",
            "liquor;8758\n",
            "partial;8743\n",
            "filter;8697\n",
            "locust;8614\n",
            "pork;8438\n",
            "buttermilk;8390\n",
            "bell;8284\n",
            "cinnamon;8212\n",
            "smoke;8210\n",
            "unbleach;8170\n",
            "parsley;8121\n",
            "nitrit;8076\n",
            "ferrou;7903\n",
            "chili;7889\n",
            "titanium;7591\n",
            "yolk;7452\n",
            "gelatin;7381\n",
            "glycerin;7305\n",
            "mustard;7239\n",
            "jalapeno;7230\n",
            "hydrochlorid;7224\n",
            "malic;7209\n",
            "fdc;7131\n",
            "cook;7055\n",
            "fiber;7039\n",
            "wax;7012\n",
            "sesam;6830\n",
            "protect;6752\n",
            "lake;6716\n",
            "carnauba;6669\n",
            "strawberri;6534\n",
            "hydroli;6519\n",
            "edta;6416\n",
            "niacinamid;6405\n",
            "includ;6387\n",
            "shorten;6357\n",
            "pyridoxin;6339\n",
            "monoglycerid;6293\n",
            "monosodium;6282\n",
            "glutam;6267\n"
          ]
        }
      ]
    },
    {
      "cell_type": "markdown",
      "metadata": {
        "id": "GsBzgyzQHMai"
      },
      "source": [
        "We can find that there is some word isn't be well \n",
        "process"
      ]
    },
    {
      "cell_type": "code",
      "metadata": {
        "id": "KodN33npwpWm"
      },
      "source": [
        "def ingredient_parser(ingredients):\n",
        "    # measures and common words (already lemmatized)   \n",
        "    measures = ['fdc','ad','follow','brown','mono','high','white','dri','ad','less','green','et','red','yellow','color','blue','black']\n",
        "    ingred_list = []\n",
        "    for word in ingredients:\n",
        "      if word not in measures:\n",
        "        ingred_list.append(word)\n",
        "    return ingred_list"
      ],
      "execution_count": null,
      "outputs": []
    },
    {
      "cell_type": "code",
      "metadata": {
        "id": "i-_p17g1-wdH"
      },
      "source": [
        "for i in range(len(new_ingredient)):\n",
        "  new_ingredient[i]=ingredient_parser(new_ingredient[i])"
      ],
      "execution_count": null,
      "outputs": []
    },
    {
      "cell_type": "code",
      "metadata": {
        "id": "qpo53xNxAqXR",
        "colab": {
          "base_uri": "https://localhost:8080/"
        },
        "outputId": "d5682b0e-3fad-4fdf-9bf2-27cdcb82fa3b"
      },
      "source": [
        "len(new_ingredient)"
      ],
      "execution_count": null,
      "outputs": [
        {
          "output_type": "execute_result",
          "data": {
            "text/plain": [
              "252265"
            ]
          },
          "metadata": {},
          "execution_count": 32
        }
      ]
    },
    {
      "cell_type": "markdown",
      "metadata": {
        "id": "b9LQxxZpI_nm"
      },
      "source": [
        "# Another Obvious mistake"
      ]
    },
    {
      "cell_type": "markdown",
      "metadata": {
        "id": "ySrtnUlKO21d"
      },
      "source": [
        "Based on nutrition facts and/or food categories, propose clustering approaches and a visualisation of some categories of products. Find outliers (a product very different from others of the same group). It exists products very similars in terms of nutrition facts but very different in terms of categories or ingredients ?"
      ]
    },
    {
      "cell_type": "code",
      "metadata": {
        "id": "rvTYfOl6bS32"
      },
      "source": [
        "new_openfoods.ingredients_text=new_ingredient"
      ],
      "execution_count": null,
      "outputs": []
    },
    {
      "cell_type": "code",
      "metadata": {
        "id": "Ia4811A3BUyp",
        "colab": {
          "base_uri": "https://localhost:8080/",
          "height": 1000
        },
        "outputId": "3a691aca-453d-426e-e056-9998b07e29a2"
      },
      "source": [
        "new_openfoods.head(10)"
      ],
      "execution_count": null,
      "outputs": [
        {
          "output_type": "execute_result",
          "data": {
            "text/html": [
              "<div>\n",
              "<style scoped>\n",
              "    .dataframe tbody tr th:only-of-type {\n",
              "        vertical-align: middle;\n",
              "    }\n",
              "\n",
              "    .dataframe tbody tr th {\n",
              "        vertical-align: top;\n",
              "    }\n",
              "\n",
              "    .dataframe thead th {\n",
              "        text-align: right;\n",
              "    }\n",
              "</style>\n",
              "<table border=\"1\" class=\"dataframe\">\n",
              "  <thead>\n",
              "    <tr style=\"text-align: right;\">\n",
              "      <th></th>\n",
              "      <th>product_name</th>\n",
              "      <th>categories</th>\n",
              "      <th>ingredients_text</th>\n",
              "      <th>fat_100g</th>\n",
              "      <th>carbohydrates_100g</th>\n",
              "      <th>sugars_100g</th>\n",
              "      <th>proteins_100g</th>\n",
              "      <th>salt_100g</th>\n",
              "      <th>energy_100g</th>\n",
              "    </tr>\n",
              "  </thead>\n",
              "  <tbody>\n",
              "    <tr>\n",
              "      <th>287</th>\n",
              "      <td>Cranberries</td>\n",
              "      <td>Plant-based foods and beverages, Plant-based f...</td>\n",
              "      <td>[sunflow, oil, cranberri, sugar]</td>\n",
              "      <td>0.00</td>\n",
              "      <td>83.33</td>\n",
              "      <td>66.67</td>\n",
              "      <td>0.00</td>\n",
              "      <td>0.00000</td>\n",
              "      <td>1255.0</td>\n",
              "    </tr>\n",
              "    <tr>\n",
              "      <th>531</th>\n",
              "      <td>Sliced Plain Bagel</td>\n",
              "      <td>Plant-based foods and beverages, Plant-based f...</td>\n",
              "      <td>[folic, malt, wheat, iron, salt, yeast, gluten...</td>\n",
              "      <td>1.18</td>\n",
              "      <td>71.76</td>\n",
              "      <td>4.71</td>\n",
              "      <td>12.94</td>\n",
              "      <td>1.19634</td>\n",
              "      <td>1527.0</td>\n",
              "    </tr>\n",
              "    <tr>\n",
              "      <th>535</th>\n",
              "      <td>Muffin</td>\n",
              "      <td>Snacks, Sweet snacks, Biscuits and cakes, Cake...</td>\n",
              "      <td>[soybean, alkali, oil, dairi, liquor, calcium,...</td>\n",
              "      <td>21.76</td>\n",
              "      <td>51.76</td>\n",
              "      <td>32.94</td>\n",
              "      <td>5.88</td>\n",
              "      <td>0.67310</td>\n",
              "      <td>1749.0</td>\n",
              "    </tr>\n",
              "    <tr>\n",
              "      <th>541</th>\n",
              "      <td>Apple Turnover</td>\n",
              "      <td>Snacks, Sweet snacks, Viennoiseries, Apple tur...</td>\n",
              "      <td>[appl, folic, malt, wheat, iron, oil, salt, mo...</td>\n",
              "      <td>22.35</td>\n",
              "      <td>42.35</td>\n",
              "      <td>15.29</td>\n",
              "      <td>4.71</td>\n",
              "      <td>0.80772</td>\n",
              "      <td>1623.0</td>\n",
              "    </tr>\n",
              "    <tr>\n",
              "      <th>818</th>\n",
              "      <td>Original Buttery Spread</td>\n",
              "      <td>en:Fats</td>\n",
              "      <td>[natur, oil, salt, vitamin, di-alpha-tocophero...</td>\n",
              "      <td>71.43</td>\n",
              "      <td>0.00</td>\n",
              "      <td>0.00</td>\n",
              "      <td>0.00</td>\n",
              "      <td>1.78500</td>\n",
              "      <td>2690.0</td>\n",
              "    </tr>\n",
              "    <tr>\n",
              "      <th>819</th>\n",
              "      <td>Canola harvest, buttery spread, with flaxseed oil</td>\n",
              "      <td>Fats</td>\n",
              "      <td>[soybean, oil, salt, vitamin, flax, sorbat, ca...</td>\n",
              "      <td>57.14</td>\n",
              "      <td>0.00</td>\n",
              "      <td>0.00</td>\n",
              "      <td>0.00</td>\n",
              "      <td>1.34000</td>\n",
              "      <td>2389.0</td>\n",
              "    </tr>\n",
              "    <tr>\n",
              "      <th>834</th>\n",
              "      <td>German fine bread</td>\n",
              "      <td>Plant-based foods and beverages, Plant-based f...</td>\n",
              "      <td>[malt, seed, wheat, yeast, salt, whole, water,...</td>\n",
              "      <td>3.51</td>\n",
              "      <td>52.63</td>\n",
              "      <td>8.77</td>\n",
              "      <td>7.02</td>\n",
              "      <td>1.71000</td>\n",
              "      <td>1100.0</td>\n",
              "    </tr>\n",
              "    <tr>\n",
              "      <th>835</th>\n",
              "      <td>Today's temptations, lithuanian rye bread</td>\n",
              "      <td>Plant-based foods and beverages, Plant-based f...</td>\n",
              "      <td>[onion, malt, seed, wheat, yeast, salt, water,...</td>\n",
              "      <td>2.63</td>\n",
              "      <td>47.37</td>\n",
              "      <td>8.77</td>\n",
              "      <td>5.26</td>\n",
              "      <td>1.40250</td>\n",
              "      <td>954.0</td>\n",
              "    </tr>\n",
              "    <tr>\n",
              "      <th>917</th>\n",
              "      <td>Bakers Best, White Bread</td>\n",
              "      <td>Plant-based foods and beverages, Plant-based f...</td>\n",
              "      <td>[ada, soybean, cottonse, folic, malt, wheat, y...</td>\n",
              "      <td>1.47</td>\n",
              "      <td>50.00</td>\n",
              "      <td>5.88</td>\n",
              "      <td>8.82</td>\n",
              "      <td>1.25000</td>\n",
              "      <td>983.0</td>\n",
              "    </tr>\n",
              "    <tr>\n",
              "      <th>918</th>\n",
              "      <td>Bakers Best, Rye Bread</td>\n",
              "      <td>Plant-based foods and beverages, Plant-based f...</td>\n",
              "      <td>[folic, malt, natur, wheat, yeast, oil, salt, ...</td>\n",
              "      <td>2.56</td>\n",
              "      <td>53.85</td>\n",
              "      <td>2.56</td>\n",
              "      <td>7.69</td>\n",
              "      <td>0.80250</td>\n",
              "      <td>1071.0</td>\n",
              "    </tr>\n",
              "  </tbody>\n",
              "</table>\n",
              "</div>"
            ],
            "text/plain": [
              "                                          product_name  ... energy_100g\n",
              "287                                        Cranberries  ...      1255.0\n",
              "531                                 Sliced Plain Bagel  ...      1527.0\n",
              "535                                             Muffin  ...      1749.0\n",
              "541                                     Apple Turnover  ...      1623.0\n",
              "818                            Original Buttery Spread  ...      2690.0\n",
              "819  Canola harvest, buttery spread, with flaxseed oil  ...      2389.0\n",
              "834                                  German fine bread  ...      1100.0\n",
              "835          Today's temptations, lithuanian rye bread  ...       954.0\n",
              "917                           Bakers Best, White Bread  ...       983.0\n",
              "918                             Bakers Best, Rye Bread  ...      1071.0\n",
              "\n",
              "[10 rows x 9 columns]"
            ]
          },
          "metadata": {},
          "execution_count": 34
        }
      ]
    },
    {
      "cell_type": "markdown",
      "metadata": {
        "id": "DRM4E8HVJB6t"
      },
      "source": [
        "Reconstructing the energy\n",
        "Now we have our cleaned data we really can work with! But before we start we want to look closer at the individual features. We know that the energy a product contains can mainly be calculated through his amount of carbs, fat and proteins. We also know the following: 1g of fat contains about 39 kJ of energy; 1g of carbohydrates and proteins both contain about 17 kJ of energy .\n",
        "\n",
        "Because of the complicated input-process in the OpenFoodFacts app we already said that some users start to type in wrong values. The energy is also often given in kJ and kcal, so the users can get even more confused. By calculating the energy based on the features fat, carbohydrates and proteins and comparing it to the given value of energy we can detect if some entries might be wrong and could probably even correct them in some cases:"
      ]
    },
    {
      "cell_type": "code",
      "metadata": {
        "id": "WT2u1VtCMIHG"
      },
      "source": [
        "new_openfoods['fat_100g']=abs(new_openfoods['fat_100g'])\n",
        "new_openfoods['carbohydrates_100g']=abs(new_openfoods['carbohydrates_100g'])\n",
        "new_openfoods['sugars_100g']=abs(new_openfoods['sugars_100g'])\n",
        "new_openfoods['proteins_100g']=abs(new_openfoods['proteins_100g'])\n",
        "new_openfoods['salt_100g']=abs(new_openfoods['salt_100g'])"
      ],
      "execution_count": null,
      "outputs": []
    },
    {
      "cell_type": "code",
      "metadata": {
        "id": "Gz_3FLi_Myz5"
      },
      "source": [
        "new_openfoods[\"reconstructed_energy\"] = new_openfoods[\"fat_100g\"] * 39 + new_openfoods[\"carbohydrates_100g\"] * 17 + new_openfoods[\"proteins_100g\"] * 17"
      ],
      "execution_count": null,
      "outputs": []
    },
    {
      "cell_type": "code",
      "metadata": {
        "id": "wks8RtMkMnMs"
      },
      "source": [
        "new_openfoods['reconstructed_energy']=abs(new_openfoods['reconstructed_energy'])"
      ],
      "execution_count": null,
      "outputs": []
    },
    {
      "cell_type": "code",
      "metadata": {
        "id": "oncMiJCVL05L",
        "colab": {
          "base_uri": "https://localhost:8080/"
        },
        "outputId": "3b4d1ba4-9144-4e58-a37f-bf0049550c94"
      },
      "source": [
        "max(new_openfoods.reconstructed_energy)"
      ],
      "execution_count": null,
      "outputs": [
        {
          "output_type": "execute_result",
          "data": {
            "text/plain": [
              "23868.0"
            ]
          },
          "metadata": {},
          "execution_count": 38
        }
      ]
    },
    {
      "cell_type": "code",
      "metadata": {
        "id": "xA_DvyIyMqqs",
        "colab": {
          "base_uri": "https://localhost:8080/"
        },
        "outputId": "735e5293-17c8-4df6-d627-0e6e3c73e951"
      },
      "source": [
        "min(new_openfoods.reconstructed_energy)"
      ],
      "execution_count": null,
      "outputs": [
        {
          "output_type": "execute_result",
          "data": {
            "text/plain": [
              "0.0"
            ]
          },
          "metadata": {},
          "execution_count": 39
        }
      ]
    },
    {
      "cell_type": "code",
      "metadata": {
        "id": "mkMjcbqRNTxC",
        "colab": {
          "base_uri": "https://localhost:8080/",
          "height": 281
        },
        "outputId": "4cd2dd2c-dd3a-41f6-b85c-e5f801f9355b"
      },
      "source": [
        "mistake=new_openfoods[new_openfoods['reconstructed_energy']>=10000]\n",
        "mistake"
      ],
      "execution_count": null,
      "outputs": [
        {
          "output_type": "execute_result",
          "data": {
            "text/html": [
              "<div>\n",
              "<style scoped>\n",
              "    .dataframe tbody tr th:only-of-type {\n",
              "        vertical-align: middle;\n",
              "    }\n",
              "\n",
              "    .dataframe tbody tr th {\n",
              "        vertical-align: top;\n",
              "    }\n",
              "\n",
              "    .dataframe thead th {\n",
              "        text-align: right;\n",
              "    }\n",
              "</style>\n",
              "<table border=\"1\" class=\"dataframe\">\n",
              "  <thead>\n",
              "    <tr style=\"text-align: right;\">\n",
              "      <th></th>\n",
              "      <th>product_name</th>\n",
              "      <th>categories</th>\n",
              "      <th>ingredients_text</th>\n",
              "      <th>fat_100g</th>\n",
              "      <th>carbohydrates_100g</th>\n",
              "      <th>sugars_100g</th>\n",
              "      <th>proteins_100g</th>\n",
              "      <th>salt_100g</th>\n",
              "      <th>energy_100g</th>\n",
              "      <th>reconstructed_energy</th>\n",
              "    </tr>\n",
              "  </thead>\n",
              "  <tbody>\n",
              "    <tr>\n",
              "      <th>222217</th>\n",
              "      <td>Creamy Peanut Butter</td>\n",
              "      <td>Plant-based foods and beverages,Plant-based fo...</td>\n",
              "      <td>[seed, oil, salt, rapese, veget, cotton, peanu...</td>\n",
              "      <td>280.0</td>\n",
              "      <td>160.0</td>\n",
              "      <td>60.0</td>\n",
              "      <td>140.0</td>\n",
              "      <td>32.0</td>\n",
              "      <td>15100.0</td>\n",
              "      <td>16020.0</td>\n",
              "    </tr>\n",
              "    <tr>\n",
              "      <th>359879</th>\n",
              "      <td>Creamy Peanut Butter</td>\n",
              "      <td>Plant-based foods and beverages,Plant-based fo...</td>\n",
              "      <td>[soybean, oil, salt, hydrogen, peanut, roast, ...</td>\n",
              "      <td>320.0</td>\n",
              "      <td>120.0</td>\n",
              "      <td>60.0</td>\n",
              "      <td>120.0</td>\n",
              "      <td>5.5</td>\n",
              "      <td>16700.0</td>\n",
              "      <td>16560.0</td>\n",
              "    </tr>\n",
              "    <tr>\n",
              "      <th>436163</th>\n",
              "      <td>Pure Irish Butter Unsalted</td>\n",
              "      <td>Fats, en:butters</td>\n",
              "      <td>[cream, pasteuri, cultur, milk, skim]</td>\n",
              "      <td>612.0</td>\n",
              "      <td>0.0</td>\n",
              "      <td>0.0</td>\n",
              "      <td>0.0</td>\n",
              "      <td>0.0</td>\n",
              "      <td>21400.0</td>\n",
              "      <td>23868.0</td>\n",
              "    </tr>\n",
              "  </tbody>\n",
              "</table>\n",
              "</div>"
            ],
            "text/plain": [
              "                      product_name  ... reconstructed_energy\n",
              "222217        Creamy Peanut Butter  ...              16020.0\n",
              "359879        Creamy Peanut Butter  ...              16560.0\n",
              "436163  Pure Irish Butter Unsalted  ...              23868.0\n",
              "\n",
              "[3 rows x 10 columns]"
            ]
          },
          "metadata": {},
          "execution_count": 40
        }
      ]
    },
    {
      "cell_type": "code",
      "metadata": {
        "id": "PXcZPlueNv-P"
      },
      "source": [
        "new_openfoods=new_openfoods.drop(index=mistake.index)"
      ],
      "execution_count": null,
      "outputs": []
    },
    {
      "cell_type": "code",
      "metadata": {
        "id": "w4JpOvt5PC_D",
        "colab": {
          "base_uri": "https://localhost:8080/"
        },
        "outputId": "424499f5-121d-4016-ff1e-b79513bc1ca0"
      },
      "source": [
        "max(new_openfoods[\"reconstructed_energy\"])"
      ],
      "execution_count": null,
      "outputs": [
        {
          "output_type": "execute_result",
          "data": {
            "text/plain": [
              "6166.780000000001"
            ]
          },
          "metadata": {},
          "execution_count": 42
        }
      ]
    },
    {
      "cell_type": "code",
      "metadata": {
        "id": "llFoRSHYPQf5",
        "colab": {
          "base_uri": "https://localhost:8080/"
        },
        "outputId": "f01c438c-43f1-4b3e-940c-3f3baaa56da0"
      },
      "source": [
        "max(new_openfoods[\"energy_100g\"])"
      ],
      "execution_count": null,
      "outputs": [
        {
          "output_type": "execute_result",
          "data": {
            "text/plain": [
              "11188.0"
            ]
          },
          "metadata": {},
          "execution_count": 43
        }
      ]
    },
    {
      "cell_type": "code",
      "metadata": {
        "id": "J7a01qTqPcR7",
        "colab": {
          "base_uri": "https://localhost:8080/",
          "height": 151
        },
        "outputId": "b53b13a2-1b67-4dc8-e2dc-aaa6f3b1c0bb"
      },
      "source": [
        "mistake2=new_openfoods[new_openfoods['energy_100g']>=10000]\n",
        "mistake2"
      ],
      "execution_count": null,
      "outputs": [
        {
          "output_type": "execute_result",
          "data": {
            "text/html": [
              "<div>\n",
              "<style scoped>\n",
              "    .dataframe tbody tr th:only-of-type {\n",
              "        vertical-align: middle;\n",
              "    }\n",
              "\n",
              "    .dataframe tbody tr th {\n",
              "        vertical-align: top;\n",
              "    }\n",
              "\n",
              "    .dataframe thead th {\n",
              "        text-align: right;\n",
              "    }\n",
              "</style>\n",
              "<table border=\"1\" class=\"dataframe\">\n",
              "  <thead>\n",
              "    <tr style=\"text-align: right;\">\n",
              "      <th></th>\n",
              "      <th>product_name</th>\n",
              "      <th>categories</th>\n",
              "      <th>ingredients_text</th>\n",
              "      <th>fat_100g</th>\n",
              "      <th>carbohydrates_100g</th>\n",
              "      <th>sugars_100g</th>\n",
              "      <th>proteins_100g</th>\n",
              "      <th>salt_100g</th>\n",
              "      <th>energy_100g</th>\n",
              "      <th>reconstructed_energy</th>\n",
              "    </tr>\n",
              "  </thead>\n",
              "  <tbody>\n",
              "    <tr>\n",
              "      <th>4245</th>\n",
              "      <td>Orange dark chocolate truffles</td>\n",
              "      <td>Snacks, Sweet snacks, Confectioneries, Chocola...</td>\n",
              "      <td>[natur, oil, butter, skim, soya, coconut, milk...</td>\n",
              "      <td>52.78</td>\n",
              "      <td>41.67</td>\n",
              "      <td>36.11</td>\n",
              "      <td>5.56</td>\n",
              "      <td>0.075</td>\n",
              "      <td>11188.0</td>\n",
              "      <td>2861.33</td>\n",
              "    </tr>\n",
              "  </tbody>\n",
              "</table>\n",
              "</div>"
            ],
            "text/plain": [
              "                        product_name  ... reconstructed_energy\n",
              "4245  Orange dark chocolate truffles  ...              2861.33\n",
              "\n",
              "[1 rows x 10 columns]"
            ]
          },
          "metadata": {},
          "execution_count": 44
        }
      ]
    },
    {
      "cell_type": "code",
      "metadata": {
        "id": "JUrrjrDDP67h"
      },
      "source": [
        "new_openfoods=new_openfoods.drop(index=mistake2.index)"
      ],
      "execution_count": null,
      "outputs": []
    },
    {
      "cell_type": "markdown",
      "metadata": {
        "id": "uf1TCirKKzCI"
      },
      "source": [
        "It seems like the reconstructed energy is almost matching the given amout of energy. But let's look at a plot of both amounts of energy for a better conclusion:"
      ]
    },
    {
      "cell_type": "code",
      "metadata": {
        "id": "Jf95MXXFK2jh",
        "colab": {
          "base_uri": "https://localhost:8080/",
          "height": 785
        },
        "outputId": "f8c62b5e-9314-44d5-87b6-d2bc1fe2d3c1"
      },
      "source": [
        "plt.figure(figsize = (10,10))\n",
        "plt.scatter(new_openfoods[\"energy_100g\"], new_openfoods[\"reconstructed_energy\"], s = 0.6, c= \"goldenrod\")\n",
        "plt.xlabel(\"given energy\")\n",
        "plt.ylabel(\"reconstructed energy\")\n",
        "my_x_ticks = np.arange(0, 9000, 1000)\n",
        "my_y_ticks = np.arange(0, 9000, 1000)\n",
        "plt.xticks(my_x_ticks)\n",
        "plt.yticks(my_y_ticks)"
      ],
      "execution_count": null,
      "outputs": [
        {
          "output_type": "execute_result",
          "data": {
            "text/plain": [
              "([<matplotlib.axis.YTick at 0x7f2e48c79890>,\n",
              "  <matplotlib.axis.YTick at 0x7f2e4ef78690>,\n",
              "  <matplotlib.axis.YTick at 0x7f2e48cd8890>,\n",
              "  <matplotlib.axis.YTick at 0x7f2e53af97d0>,\n",
              "  <matplotlib.axis.YTick at 0x7f2e53af9d10>,\n",
              "  <matplotlib.axis.YTick at 0x7f2e55f9c310>,\n",
              "  <matplotlib.axis.YTick at 0x7f2e55f9c810>,\n",
              "  <matplotlib.axis.YTick at 0x7f2e55f9cd50>,\n",
              "  <matplotlib.axis.YTick at 0x7f2e55f9c250>],\n",
              " <a list of 9 Text major ticklabel objects>)"
            ]
          },
          "metadata": {},
          "execution_count": 46
        },
        {
          "output_type": "display_data",
          "data": {
            "image/png": "[encoded data removed]",
            "text/plain": [
              "<Figure size 720x720 with 1 Axes>"
            ]
          },
          "metadata": {
            "needs_background": "light"
          }
        }
      ]
    },
    {
      "cell_type": "markdown",
      "metadata": {
        "id": "eVpn7aWfQKbL"
      },
      "source": [
        "Another obvious mistake"
      ]
    },
    {
      "cell_type": "markdown",
      "metadata": {
        "id": "E38LATZiQMP-"
      },
      "source": [
        "Apart from the mistakes we detected through our reconstructed energy we can also easily detect another mistake: Our features fat, carbohydrates and proteins are given based on 100g. So if the sum of these features is higher than 100 we would also know that there is something wrong with our given data.\n",
        "\n",
        "So let's see if we can find any of these mistakes:"
      ]
    },
    {
      "cell_type": "code",
      "metadata": {
        "id": "pEAi4p4TQRHq",
        "colab": {
          "base_uri": "https://localhost:8080/",
          "height": 462
        },
        "outputId": "c89b944c-9ea2-4d2a-cced-bc0e1cc1d8f6"
      },
      "source": [
        "new_openfoods[\"g_sum\"] = new_openfoods.fat_100g + new_openfoods.carbohydrates_100g + new_openfoods.proteins_100g\n",
        "\n",
        "new_openfoods[\"exceeded\"] = np.where(new_openfoods.g_sum.values > 100, 1, 0)\n",
        "new_openfoods[new_openfoods[\"exceeded\"] == 1].head()"
      ],
      "execution_count": null,
      "outputs": [
        {
          "output_type": "execute_result",
          "data": {
            "text/html": [
              "<div>\n",
              "<style scoped>\n",
              "    .dataframe tbody tr th:only-of-type {\n",
              "        vertical-align: middle;\n",
              "    }\n",
              "\n",
              "    .dataframe tbody tr th {\n",
              "        vertical-align: top;\n",
              "    }\n",
              "\n",
              "    .dataframe thead th {\n",
              "        text-align: right;\n",
              "    }\n",
              "</style>\n",
              "<table border=\"1\" class=\"dataframe\">\n",
              "  <thead>\n",
              "    <tr style=\"text-align: right;\">\n",
              "      <th></th>\n",
              "      <th>product_name</th>\n",
              "      <th>categories</th>\n",
              "      <th>ingredients_text</th>\n",
              "      <th>fat_100g</th>\n",
              "      <th>carbohydrates_100g</th>\n",
              "      <th>sugars_100g</th>\n",
              "      <th>proteins_100g</th>\n",
              "      <th>salt_100g</th>\n",
              "      <th>energy_100g</th>\n",
              "      <th>reconstructed_energy</th>\n",
              "      <th>g_sum</th>\n",
              "      <th>exceeded</th>\n",
              "    </tr>\n",
              "  </thead>\n",
              "  <tbody>\n",
              "    <tr>\n",
              "      <th>3393</th>\n",
              "      <td>Meiji, hello panda, choco biscuits with choco ...</td>\n",
              "      <td>Snacks, Sweet snacks, Biscuits and cakes, Bisc...</td>\n",
              "      <td>[wheat, oil, cream, salt, yeast, mass, butter,...</td>\n",
              "      <td>26.67</td>\n",
              "      <td>66.67</td>\n",
              "      <td>26.67</td>\n",
              "      <td>6.67</td>\n",
              "      <td>0.8325</td>\n",
              "      <td>2230.0</td>\n",
              "      <td>2286.91</td>\n",
              "      <td>100.01</td>\n",
              "      <td>1</td>\n",
              "    </tr>\n",
              "    <tr>\n",
              "      <th>3395</th>\n",
              "      <td>Biscuit</td>\n",
              "      <td>Snacks, Sweet snacks, Biscuits and cakes, Bisc...</td>\n",
              "      <td>[leav, malt, natur, wheat, oil, salt, bean, ci...</td>\n",
              "      <td>26.67</td>\n",
              "      <td>66.67</td>\n",
              "      <td>26.67</td>\n",
              "      <td>6.67</td>\n",
              "      <td>0.9175</td>\n",
              "      <td>2230.0</td>\n",
              "      <td>2286.91</td>\n",
              "      <td>100.01</td>\n",
              "      <td>1</td>\n",
              "    </tr>\n",
              "    <tr>\n",
              "      <th>3396</th>\n",
              "      <td>Biscuits</td>\n",
              "      <td>Snacks, Sweet snacks, Biscuits and cakes, Bisc...</td>\n",
              "      <td>[malt, natur, wheat, oil, salt, skim, canola, ...</td>\n",
              "      <td>26.67</td>\n",
              "      <td>66.67</td>\n",
              "      <td>33.33</td>\n",
              "      <td>6.67</td>\n",
              "      <td>0.9175</td>\n",
              "      <td>2230.0</td>\n",
              "      <td>2286.91</td>\n",
              "      <td>100.01</td>\n",
              "      <td>1</td>\n",
              "    </tr>\n",
              "    <tr>\n",
              "      <th>3662</th>\n",
              "      <td>Peanut butter cup optimal low-carb ketogenic n...</td>\n",
              "      <td>Snacks, Sweet snacks, Confectioneries</td>\n",
              "      <td>[natur, oil, salt, vanilla, butter, isol, coat...</td>\n",
              "      <td>47.06</td>\n",
              "      <td>41.18</td>\n",
              "      <td>5.88</td>\n",
              "      <td>11.76</td>\n",
              "      <td>0.2200</td>\n",
              "      <td>2213.0</td>\n",
              "      <td>2735.32</td>\n",
              "      <td>100.00</td>\n",
              "      <td>1</td>\n",
              "    </tr>\n",
              "    <tr>\n",
              "      <th>3663</th>\n",
              "      <td>Peanut butter cup fat bomb snack</td>\n",
              "      <td>Snacks</td>\n",
              "      <td>[natur, oil, salt, vanilla, butter, isol, coat...</td>\n",
              "      <td>47.06</td>\n",
              "      <td>41.18</td>\n",
              "      <td>5.88</td>\n",
              "      <td>11.76</td>\n",
              "      <td>0.2200</td>\n",
              "      <td>2213.0</td>\n",
              "      <td>2735.32</td>\n",
              "      <td>100.00</td>\n",
              "      <td>1</td>\n",
              "    </tr>\n",
              "  </tbody>\n",
              "</table>\n",
              "</div>"
            ],
            "text/plain": [
              "                                           product_name  ... exceeded\n",
              "3393  Meiji, hello panda, choco biscuits with choco ...  ...        1\n",
              "3395                                            Biscuit  ...        1\n",
              "3396                                           Biscuits  ...        1\n",
              "3662  Peanut butter cup optimal low-carb ketogenic n...  ...        1\n",
              "3663                   Peanut butter cup fat bomb snack  ...        1\n",
              "\n",
              "[5 rows x 12 columns]"
            ]
          },
          "metadata": {},
          "execution_count": 47
        }
      ]
    },
    {
      "cell_type": "code",
      "metadata": {
        "id": "b8P1Cts4QwkN",
        "colab": {
          "base_uri": "https://localhost:8080/"
        },
        "outputId": "2f3bafb1-43e2-462e-d8bc-2914af617212"
      },
      "source": [
        "new_openfoods.exceeded.value_counts()"
      ],
      "execution_count": null,
      "outputs": [
        {
          "output_type": "execute_result",
          "data": {
            "text/plain": [
              "0    250841\n",
              "1      1420\n",
              "Name: exceeded, dtype: int64"
            ]
          },
          "metadata": {},
          "execution_count": 48
        }
      ]
    },
    {
      "cell_type": "code",
      "metadata": {
        "id": "93XauYTSRD5I",
        "colab": {
          "base_uri": "https://localhost:8080/",
          "height": 915
        },
        "outputId": "9de0b27a-5747-449c-c5f0-e28fdf8bb57c"
      },
      "source": [
        "exceeded=new_openfoods[new_openfoods.exceeded==1]\n",
        "exceeded"
      ],
      "execution_count": null,
      "outputs": [
        {
          "output_type": "execute_result",
          "data": {
            "text/html": [
              "<div>\n",
              "<style scoped>\n",
              "    .dataframe tbody tr th:only-of-type {\n",
              "        vertical-align: middle;\n",
              "    }\n",
              "\n",
              "    .dataframe tbody tr th {\n",
              "        vertical-align: top;\n",
              "    }\n",
              "\n",
              "    .dataframe thead th {\n",
              "        text-align: right;\n",
              "    }\n",
              "</style>\n",
              "<table border=\"1\" class=\"dataframe\">\n",
              "  <thead>\n",
              "    <tr style=\"text-align: right;\">\n",
              "      <th></th>\n",
              "      <th>product_name</th>\n",
              "      <th>categories</th>\n",
              "      <th>ingredients_text</th>\n",
              "      <th>fat_100g</th>\n",
              "      <th>carbohydrates_100g</th>\n",
              "      <th>sugars_100g</th>\n",
              "      <th>proteins_100g</th>\n",
              "      <th>salt_100g</th>\n",
              "      <th>energy_100g</th>\n",
              "      <th>reconstructed_energy</th>\n",
              "      <th>g_sum</th>\n",
              "      <th>exceeded</th>\n",
              "    </tr>\n",
              "  </thead>\n",
              "  <tbody>\n",
              "    <tr>\n",
              "      <th>3393</th>\n",
              "      <td>Meiji, hello panda, choco biscuits with choco ...</td>\n",
              "      <td>Snacks, Sweet snacks, Biscuits and cakes, Bisc...</td>\n",
              "      <td>[wheat, oil, cream, salt, yeast, mass, butter,...</td>\n",
              "      <td>26.67</td>\n",
              "      <td>66.67</td>\n",
              "      <td>26.67</td>\n",
              "      <td>6.67</td>\n",
              "      <td>0.8325</td>\n",
              "      <td>2230.0</td>\n",
              "      <td>2286.91</td>\n",
              "      <td>100.01</td>\n",
              "      <td>1</td>\n",
              "    </tr>\n",
              "    <tr>\n",
              "      <th>3395</th>\n",
              "      <td>Biscuit</td>\n",
              "      <td>Snacks, Sweet snacks, Biscuits and cakes, Bisc...</td>\n",
              "      <td>[leav, malt, natur, wheat, oil, salt, bean, ci...</td>\n",
              "      <td>26.67</td>\n",
              "      <td>66.67</td>\n",
              "      <td>26.67</td>\n",
              "      <td>6.67</td>\n",
              "      <td>0.9175</td>\n",
              "      <td>2230.0</td>\n",
              "      <td>2286.91</td>\n",
              "      <td>100.01</td>\n",
              "      <td>1</td>\n",
              "    </tr>\n",
              "    <tr>\n",
              "      <th>3396</th>\n",
              "      <td>Biscuits</td>\n",
              "      <td>Snacks, Sweet snacks, Biscuits and cakes, Bisc...</td>\n",
              "      <td>[malt, natur, wheat, oil, salt, skim, canola, ...</td>\n",
              "      <td>26.67</td>\n",
              "      <td>66.67</td>\n",
              "      <td>33.33</td>\n",
              "      <td>6.67</td>\n",
              "      <td>0.9175</td>\n",
              "      <td>2230.0</td>\n",
              "      <td>2286.91</td>\n",
              "      <td>100.01</td>\n",
              "      <td>1</td>\n",
              "    </tr>\n",
              "    <tr>\n",
              "      <th>3662</th>\n",
              "      <td>Peanut butter cup optimal low-carb ketogenic n...</td>\n",
              "      <td>Snacks, Sweet snacks, Confectioneries</td>\n",
              "      <td>[natur, oil, salt, vanilla, butter, isol, coat...</td>\n",
              "      <td>47.06</td>\n",
              "      <td>41.18</td>\n",
              "      <td>5.88</td>\n",
              "      <td>11.76</td>\n",
              "      <td>0.2200</td>\n",
              "      <td>2213.0</td>\n",
              "      <td>2735.32</td>\n",
              "      <td>100.00</td>\n",
              "      <td>1</td>\n",
              "    </tr>\n",
              "    <tr>\n",
              "      <th>3663</th>\n",
              "      <td>Peanut butter cup fat bomb snack</td>\n",
              "      <td>Snacks</td>\n",
              "      <td>[natur, oil, salt, vanilla, butter, isol, coat...</td>\n",
              "      <td>47.06</td>\n",
              "      <td>41.18</td>\n",
              "      <td>5.88</td>\n",
              "      <td>11.76</td>\n",
              "      <td>0.2200</td>\n",
              "      <td>2213.0</td>\n",
              "      <td>2735.32</td>\n",
              "      <td>100.00</td>\n",
              "      <td>1</td>\n",
              "    </tr>\n",
              "    <tr>\n",
              "      <th>...</th>\n",
              "      <td>...</td>\n",
              "      <td>...</td>\n",
              "      <td>...</td>\n",
              "      <td>...</td>\n",
              "      <td>...</td>\n",
              "      <td>...</td>\n",
              "      <td>...</td>\n",
              "      <td>...</td>\n",
              "      <td>...</td>\n",
              "      <td>...</td>\n",
              "      <td>...</td>\n",
              "      <td>...</td>\n",
              "    </tr>\n",
              "    <tr>\n",
              "      <th>1972733</th>\n",
              "      <td>Sobisk, mini snak salted cracker</td>\n",
              "      <td>Biscuits and cakes</td>\n",
              "      <td>[wheat, oil, salt, liquid, yeast, bicarbon, fl...</td>\n",
              "      <td>21.43</td>\n",
              "      <td>71.43</td>\n",
              "      <td>7.14</td>\n",
              "      <td>7.14</td>\n",
              "      <td>1.7850</td>\n",
              "      <td>2092.0</td>\n",
              "      <td>2171.46</td>\n",
              "      <td>100.00</td>\n",
              "      <td>1</td>\n",
              "    </tr>\n",
              "    <tr>\n",
              "      <th>1973878</th>\n",
              "      <td>Cumin seed whole organic spices</td>\n",
              "      <td>Plant-based foods and beverages, Plant-based f...</td>\n",
              "      <td>[seed, cumin, whole]</td>\n",
              "      <td>30.95</td>\n",
              "      <td>47.62</td>\n",
              "      <td>0.00</td>\n",
              "      <td>23.81</td>\n",
              "      <td>0.0000</td>\n",
              "      <td>1992.0</td>\n",
              "      <td>2421.36</td>\n",
              "      <td>102.38</td>\n",
              "      <td>1</td>\n",
              "    </tr>\n",
              "    <tr>\n",
              "      <th>1973879</th>\n",
              "      <td>Cumin seed ground organic spices</td>\n",
              "      <td>Plant-based foods and beverages, Plant-based f...</td>\n",
              "      <td>[seed, cumin, ground]</td>\n",
              "      <td>30.95</td>\n",
              "      <td>47.62</td>\n",
              "      <td>0.00</td>\n",
              "      <td>23.81</td>\n",
              "      <td>0.0000</td>\n",
              "      <td>1992.0</td>\n",
              "      <td>2421.36</td>\n",
              "      <td>102.38</td>\n",
              "      <td>1</td>\n",
              "    </tr>\n",
              "    <tr>\n",
              "      <th>1973898</th>\n",
              "      <td>White pepper ground organic spices</td>\n",
              "      <td>Plant-based foods and beverages, Plant-based f...</td>\n",
              "      <td>[peppercorn, ground]</td>\n",
              "      <td>0.00</td>\n",
              "      <td>83.33</td>\n",
              "      <td>0.00</td>\n",
              "      <td>20.83</td>\n",
              "      <td>0.0000</td>\n",
              "      <td>870.0</td>\n",
              "      <td>1770.72</td>\n",
              "      <td>104.16</td>\n",
              "      <td>1</td>\n",
              "    </tr>\n",
              "    <tr>\n",
              "      <th>1976193</th>\n",
              "      <td>Dates</td>\n",
              "      <td>Plant-based foods and beverages, Plant-based f...</td>\n",
              "      <td>[date, pit]</td>\n",
              "      <td>6.25</td>\n",
              "      <td>67.50</td>\n",
              "      <td>15.00</td>\n",
              "      <td>30.00</td>\n",
              "      <td>0.0000</td>\n",
              "      <td>1569.0</td>\n",
              "      <td>1901.25</td>\n",
              "      <td>103.75</td>\n",
              "      <td>1</td>\n",
              "    </tr>\n",
              "  </tbody>\n",
              "</table>\n",
              "<p>1420 rows × 12 columns</p>\n",
              "</div>"
            ],
            "text/plain": [
              "                                              product_name  ... exceeded\n",
              "3393     Meiji, hello panda, choco biscuits with choco ...  ...        1\n",
              "3395                                               Biscuit  ...        1\n",
              "3396                                              Biscuits  ...        1\n",
              "3662     Peanut butter cup optimal low-carb ketogenic n...  ...        1\n",
              "3663                      Peanut butter cup fat bomb snack  ...        1\n",
              "...                                                    ...  ...      ...\n",
              "1972733                   Sobisk, mini snak salted cracker  ...        1\n",
              "1973878                    Cumin seed whole organic spices  ...        1\n",
              "1973879                   Cumin seed ground organic spices  ...        1\n",
              "1973898                 White pepper ground organic spices  ...        1\n",
              "1976193                                              Dates  ...        1\n",
              "\n",
              "[1420 rows x 12 columns]"
            ]
          },
          "metadata": {},
          "execution_count": 49
        }
      ]
    },
    {
      "cell_type": "code",
      "metadata": {
        "id": "y6mmOwLeQ82J"
      },
      "source": [
        "new_openfoods=new_openfoods.drop(index=exceeded.index)"
      ],
      "execution_count": null,
      "outputs": []
    },
    {
      "cell_type": "markdown",
      "metadata": {
        "id": "UO6OqL4-FnsG"
      },
      "source": [
        "# Clusering"
      ]
    },
    {
      "cell_type": "code",
      "metadata": {
        "id": "YC_2JRDaRNc7",
        "colab": {
          "base_uri": "https://localhost:8080/"
        },
        "outputId": "feefeabc-bac8-4c44-be8a-6386c4e1c53b"
      },
      "source": [
        "new_openfoods.categories.value_counts()"
      ],
      "execution_count": null,
      "outputs": [
        {
          "output_type": "execute_result",
          "data": {
            "text/plain": [
              "Snacks                                                                                                                                                                                                                                                                 29762\n",
              "Snacks, Sweet snacks, Confectioneries                                                                                                                                                                                                                                  12603\n",
              "Groceries, Sauces                                                                                                                                                                                                                                                      11525\n",
              "Dairies, Fermented foods, Fermented milk products, Cheeses                                                                                                                                                                                                             10110\n",
              "Desserts, Frozen foods, Frozen desserts                                                                                                                                                                                                                                 8859\n",
              "                                                                                                                                                                                                                                                                       ...  \n",
              "Plant-based foods and beverages, Plant-based foods, Snacks, Sandwiches, Meat analogues, Veggie patties, Veggie burgers                                                                                                                                                     1\n",
              "Groceries,Sauces,Pestos,Green pestos                                                                                                                                                                                                                                       1\n",
              "Frozen foods, Frozen-fried-chicken                                                                                                                                                                                                                                         1\n",
              "Plant-based foods and beverages, Plant-based foods, Fruits and vegetables based foods, Spreads, Breakfasts, Fruits based foods, Plant-based spreads, Sweet spreads, Fruit and vegetable preserves, Jams, Berry jams, Plant-based pâtés, Strawberry jams, Fruit jams        1\n",
              "Plant-based foods and beverages, Plant-based foods, Nuts and their products, Nuts, Roasted nuts                                                                                                                                                                            1\n",
              "Name: categories, Length: 4340, dtype: int64"
            ]
          },
          "metadata": {},
          "execution_count": 51
        }
      ]
    },
    {
      "cell_type": "markdown",
      "metadata": {
        "id": "98eky3gTS6yt"
      },
      "source": [
        "We can find the columns of categories is very messy,so we decide to do some cleaning\n",
        "\n",
        "\n",
        "\n",
        "\n",
        "\n"
      ]
    },
    {
      "cell_type": "code",
      "metadata": {
        "id": "x6uWD_jlS2rO",
        "colab": {
          "base_uri": "https://localhost:8080/"
        },
        "outputId": "c478f085-0609-427e-c4df-bdb24ce790ba"
      },
      "source": [
        "new_openfoods.categories.value_counts().head(50)"
      ],
      "execution_count": null,
      "outputs": [
        {
          "output_type": "execute_result",
          "data": {
            "text/plain": [
              "Snacks                                                                                                                                                                      29762\n",
              "Snacks, Sweet snacks, Confectioneries                                                                                                                                       12603\n",
              "Groceries, Sauces                                                                                                                                                           11525\n",
              "Dairies, Fermented foods, Fermented milk products, Cheeses                                                                                                                  10110\n",
              "Desserts, Frozen foods, Frozen desserts                                                                                                                                      8859\n",
              "Snacks, Sweet snacks, Biscuits and cakes, Biscuits                                                                                                                           8778\n",
              "Frozen foods                                                                                                                                                                 6684\n",
              "Plant-based foods and beverages, Plant-based foods, Cereals and potatoes, Breads                                                                                             6313\n",
              "Plant-based foods and beverages, Plant-based foods, Cereals and potatoes, Cereals and their products                                                                         5980\n",
              "Plant-based foods and beverages, Beverages, Plant-based beverages                                                                                                            5809\n",
              "Biscuits and cakes, Cakes                                                                                                                                                    5504\n",
              "Snacks, Sweet snacks, Confectioneries, Chocolate candies                                                                                                                     5159\n",
              "Salted snacks                                                                                                                                                                5061\n",
              "Groceries, Sauces, Dips                                                                                                                                                      4364\n",
              "Beverages, Carbonated drinks, Sodas                                                                                                                                          4252\n",
              "Dairies, Fermented foods, Fermented milk products, Yogurts                                                                                                                   4081\n",
              "Plant-based foods and beverages, Plant-based foods, Cereals and potatoes, Cereals and their products, Pastas                                                                 3845\n",
              "Meats, Prepared meats                                                                                                                                                        3560\n",
              "Beverages                                                                                                                                                                    3335\n",
              "Groceries, Condiments                                                                                                                                                        3075\n",
              "Plant-based foods and beverages, Plant-based foods, Fruits and vegetables based foods                                                                                        2976\n",
              "Plant-based foods and beverages, Plant-based foods, Canned foods, Fruits and vegetables based foods, Canned plant-based foods, Vegetables based foods, Canned vegetables     2612\n",
              "Plant-based foods and beverages, Plant-based foods, Fruits and vegetables based foods, Frozen foods, Vegetables based foods, Frozen plant-based foods, Frozen vegetables     2496\n",
              "Meals, Pizzas pies and quiches, Pizzas                                                                                                                                       2426\n",
              "Meats, Prepared meats, Sausages                                                                                                                                              2405\n",
              "Biscuits and cakes                                                                                                                                                           2400\n",
              "Baking decorations                                                                                                                                                           2207\n",
              "Meals, Soups                                                                                                                                                                 2153\n",
              "Canned foods, Meals, Soups, Canned meals, Canned soups                                                                                                                       2111\n",
              "Dairies, Milks                                                                                                                                                               2057\n",
              "Plant-based foods and beverages, Plant-based foods, Spreads, Breakfasts, Plant-based spreads, Sweet spreads, Fruit and vegetable preserves                                   2052\n",
              "Plant-based foods and beverages, Plant-based foods, Canned foods, Fruits and vegetables based foods, Canned plant-based foods, Fruits based foods, Canned fruits             1983\n",
              "Beverages, Dried products, Dried products to be rehydrated, Dehydrated beverages                                                                                             1947\n",
              "Meals                                                                                                                                                                        1938\n",
              "Beverages, Waters                                                                                                                                                            1937\n",
              "Seafood, Frozen seafood                                                                                                                                                      1896\n",
              "Biscuits and cakes, Cakes, Cooking helpers, Dessert mixes, Pastry helpers, Cake mixes                                                                                        1817\n",
              "Biscuits and cakes, Pastries                                                                                                                                                 1660\n",
              "Plant-based foods and beverages, Plant-based foods, Legumes and their products, Canned foods, Legumes, Canned plant-based foods, Canned legumes, Canned common beans         1541\n",
              "Plant-based foods and beverages, Plant-based foods, Fruits and vegetables based foods, Vegetables based foods, Tomatoes and their products, Tomatoes                         1497\n",
              "Plant-based foods and beverages, Plant-based foods, Fruits and vegetables based foods, Fruits based foods                                                                    1373\n",
              "Beverages, Iced teas                                                                                                                                                         1286\n",
              "Meats, Frozen foods, Frozen meats                                                                                                                                            1275\n",
              "Cooking helpers                                                                                                                                                              1207\n",
              "Plant-based foods and beverages, Plant-based foods, Fats, Vegetable fats                                                                                                     1109\n",
              "Mexican Dinner Mixes                                                                                                                                                         1028\n",
              "Seafood                                                                                                                                                                       993\n",
              "Sandwiches                                                                                                                                                                    966\n",
              "Meals, Pasta dishes                                                                                                                                                           962\n",
              "Plant-based foods and beverages, Plant-based foods, Cereals and potatoes, Cereals and their products, Pie dough                                                               947\n",
              "Name: categories, dtype: int64"
            ]
          },
          "metadata": {},
          "execution_count": 52
        }
      ]
    },
    {
      "cell_type": "code",
      "metadata": {
        "id": "x1t8U8NaU6vs"
      },
      "source": [
        "Snack=['Biscuits and cakes, Pastries','Biscuits and cakes, Cakes, Cooking helpers, Dessert mixes, Pastry helpers, Cake mixes','Baking decorations','Biscuits and cakes','Salted snacks','Snacks, Sweet snacks, Confectioneries, Chocolate candies','Biscuits and cakes, Cakes','Snacks','Snacks, Sweet snacks, Confectioneries','Snacks, Sweet snacks, Biscuits and cakes, Biscuits']\n",
        "Sauce=['Groceries, Sauces','Groceries, Sauces, Dips','Groceries, Condiments']\n",
        "Cheese=['Dairies, Fermented foods, Fermented milk products, Cheeses']\n",
        "Dessert=['Desserts, Frozen foods, Frozen desserts']\n",
        "Frozen_food=['Frozen foods']\n",
        "Drinks=['Beverages, Iced teas','Beverages, Waters','Beverages, Carbonated drinks, Sodas','Beverages']\n",
        "Yagurt=['Dairies, Fermented foods, Fermented milk products, Yogurts']\n",
        "Meats=['Meats, Frozen foods, Frozen meats','Meats, Prepared meats','Meats, Prepared meats, Sausages']\n",
        "Pizza=['Meals, Pizzas pies and quiches, Pizzas']\n",
        "Soup=['Meals, Soups','Canned foods, Meals, Soups, Canned meals, Canned soups']\n",
        "Milk=['Dairies, Milks']\n",
        "Vegetables=['Canned legumes, Canned common beans']\n",
        "Seafood=['Seafood, Frozen seafood','Seafood']"
      ],
      "execution_count": null,
      "outputs": []
    },
    {
      "cell_type": "code",
      "metadata": {
        "id": "rujxh0TmXoxa"
      },
      "source": [
        "def change_product_name(a):\n",
        "  if a in Snack:\n",
        "    return 'Snack'\n",
        "  elif a in Meat:\n",
        "    return 'Meat'\n",
        "  elif a in Drinks:\n",
        "    return 'Drinks'\n",
        "  elif a in Milk:\n",
        "    return 'Milk'\n",
        "  elif a in Yagurt:\n",
        "    return 'Yagurk'\n",
        "  elif a in Desserts:\n",
        "    return 'Desserts'\n",
        "  elif a in Vegetables:\n",
        "    return 'Vegetables'\n",
        "  elif a in Cheese:\n",
        "    return 'Cheese'\n",
        "  elif a in Pizza:\n",
        "    return 'Pizza'\n",
        "  elif a in Soap:\n",
        "    return 'Soap'\n",
        "  elif a in Seafood:\n",
        "    return 'Seafood'\n",
        "  else:\n",
        "    return 'Other'"
      ],
      "execution_count": null,
      "outputs": []
    },
    {
      "cell_type": "code",
      "metadata": {
        "id": "Fwue-5XMYQVY"
      },
      "source": [
        "x=new_openfoods.apply(lambda x: change_product_name(x['categories']), axis=1)"
      ],
      "execution_count": null,
      "outputs": []
    },
    {
      "cell_type": "code",
      "metadata": {
        "id": "zRaGyXOt8o9q"
      },
      "source": [
        "new_openfoods.categories=x"
      ],
      "execution_count": null,
      "outputs": []
    },
    {
      "cell_type": "code",
      "metadata": {
        "colab": {
          "base_uri": "https://localhost:8080/",
          "height": 411
        },
        "id": "90VS_AyC8yZC",
        "outputId": "30ac2d6d-c304-4f15-aa4e-9691d8e01d1b"
      },
      "source": [
        "new_openfoods=new_openfoods[new_openfoods.categories!='Other']\n",
        "new_openfoods.head()"
      ],
      "execution_count": null,
      "outputs": [
        {
          "output_type": "execute_result",
          "data": {
            "text/html": [
              "<div>\n",
              "<style scoped>\n",
              "    .dataframe tbody tr th:only-of-type {\n",
              "        vertical-align: middle;\n",
              "    }\n",
              "\n",
              "    .dataframe tbody tr th {\n",
              "        vertical-align: top;\n",
              "    }\n",
              "\n",
              "    .dataframe thead th {\n",
              "        text-align: right;\n",
              "    }\n",
              "</style>\n",
              "<table border=\"1\" class=\"dataframe\">\n",
              "  <thead>\n",
              "    <tr style=\"text-align: right;\">\n",
              "      <th></th>\n",
              "      <th>product_name</th>\n",
              "      <th>categories</th>\n",
              "      <th>ingredients_text</th>\n",
              "      <th>fat_100g</th>\n",
              "      <th>carbohydrates_100g</th>\n",
              "      <th>sugars_100g</th>\n",
              "      <th>proteins_100g</th>\n",
              "      <th>salt_100g</th>\n",
              "      <th>energy_100g</th>\n",
              "      <th>reconstructed_energy</th>\n",
              "      <th>g_sum</th>\n",
              "      <th>exceeded</th>\n",
              "    </tr>\n",
              "  </thead>\n",
              "  <tbody>\n",
              "    <tr>\n",
              "      <th>939</th>\n",
              "      <td>Piasten, Chocolate Assortment</td>\n",
              "      <td>Snack</td>\n",
              "      <td>[wheat, oil, min, humect, mass, butter, citric...</td>\n",
              "      <td>26.25</td>\n",
              "      <td>58.75</td>\n",
              "      <td>6.5</td>\n",
              "      <td>8.75</td>\n",
              "      <td>0.0300</td>\n",
              "      <td>2029.0</td>\n",
              "      <td>2171.25</td>\n",
              "      <td>93.75</td>\n",
              "      <td>0</td>\n",
              "    </tr>\n",
              "    <tr>\n",
              "      <th>948</th>\n",
              "      <td>Nestle, dark truffles grand chocolate</td>\n",
              "      <td>Snack</td>\n",
              "      <td>[sunflow, alkali, butter, miner, sorbitol, mil...</td>\n",
              "      <td>35.00</td>\n",
              "      <td>50.00</td>\n",
              "      <td>35.0</td>\n",
              "      <td>5.00</td>\n",
              "      <td>0.1250</td>\n",
              "      <td>1987.0</td>\n",
              "      <td>2300.00</td>\n",
              "      <td>90.00</td>\n",
              "      <td>0</td>\n",
              "    </tr>\n",
              "    <tr>\n",
              "      <th>953</th>\n",
              "      <td>Mt. olive, sweet 'n' hot salad peppers</td>\n",
              "      <td>Snack</td>\n",
              "      <td>[banana, natur, salt, calcium, vinegar, benoat...</td>\n",
              "      <td>0.00</td>\n",
              "      <td>32.14</td>\n",
              "      <td>25.0</td>\n",
              "      <td>0.00</td>\n",
              "      <td>1.6075</td>\n",
              "      <td>598.0</td>\n",
              "      <td>546.38</td>\n",
              "      <td>32.14</td>\n",
              "      <td>0</td>\n",
              "    </tr>\n",
              "    <tr>\n",
              "      <th>980</th>\n",
              "      <td>Ritter sport, knusperflakes mit knusprigen cor...</td>\n",
              "      <td>Snack</td>\n",
              "      <td>[mass, malt, lactos, natur, cream, salt, cocoa...</td>\n",
              "      <td>28.00</td>\n",
              "      <td>60.00</td>\n",
              "      <td>49.6</td>\n",
              "      <td>8.00</td>\n",
              "      <td>0.4000</td>\n",
              "      <td>2209.0</td>\n",
              "      <td>2248.00</td>\n",
              "      <td>96.00</td>\n",
              "      <td>0</td>\n",
              "    </tr>\n",
              "    <tr>\n",
              "      <th>990</th>\n",
              "      <td>Funsch, High Quality Marzipan</td>\n",
              "      <td>Snack</td>\n",
              "      <td>[almond, carmin, invert, food, water, sorbitol...</td>\n",
              "      <td>21.40</td>\n",
              "      <td>55.20</td>\n",
              "      <td>51.6</td>\n",
              "      <td>9.60</td>\n",
              "      <td>0.2500</td>\n",
              "      <td>1929.0</td>\n",
              "      <td>1936.20</td>\n",
              "      <td>86.20</td>\n",
              "      <td>0</td>\n",
              "    </tr>\n",
              "  </tbody>\n",
              "</table>\n",
              "</div>"
            ],
            "text/plain": [
              "                                          product_name  ... exceeded\n",
              "939                      Piasten, Chocolate Assortment  ...        0\n",
              "948              Nestle, dark truffles grand chocolate  ...        0\n",
              "953             Mt. olive, sweet 'n' hot salad peppers  ...        0\n",
              "980  Ritter sport, knusperflakes mit knusprigen cor...  ...        0\n",
              "990                      Funsch, High Quality Marzipan  ...        0\n",
              "\n",
              "[5 rows x 12 columns]"
            ]
          },
          "metadata": {},
          "execution_count": 67
        }
      ]
    },
    {
      "cell_type": "code",
      "metadata": {
        "id": "KADs2V2cv1KU"
      },
      "source": [
        "features = [\"fat_100g\", \"carbohydrates_100g\", \"sugars_100g\", \"proteins_100g\", \"salt_100g\", \"energy_100g\", \"reconstructed_energy\", \"g_sum\"]"
      ],
      "execution_count": null,
      "outputs": []
    },
    {
      "cell_type": "code",
      "metadata": {
        "id": "kUzwRaf2v5C7"
      },
      "source": [
        "import matplotlib.pyplot as plt\n",
        "import numpy as np\n",
        "from sklearn.cluster import KMeans\n",
        "#from sklearn import datasets\n",
        "from sklearn.datasets import load_iris\n",
        "\n",
        "X_train = new_openfoods[features].values\n",
        "\n",
        "model = KMeans(n_clusters=11,random_state=42)\n",
        "model.fit(X_train)\n",
        "results = new_openfoods.copy()\n",
        "results[\"cluster\"] = model.predict(X_train)"
      ],
      "execution_count": null,
      "outputs": []
    },
    {
      "cell_type": "code",
      "metadata": {
        "colab": {
          "base_uri": "https://localhost:8080/",
          "height": 719
        },
        "id": "0dGyYB0k_KiP",
        "outputId": "0c6e8a8c-4066-4605-e1e8-79da7224eeea"
      },
      "source": [
        "results.head(10)"
      ],
      "execution_count": null,
      "outputs": [
        {
          "output_type": "execute_result",
          "data": {
            "text/html": [
              "<div>\n",
              "<style scoped>\n",
              "    .dataframe tbody tr th:only-of-type {\n",
              "        vertical-align: middle;\n",
              "    }\n",
              "\n",
              "    .dataframe tbody tr th {\n",
              "        vertical-align: top;\n",
              "    }\n",
              "\n",
              "    .dataframe thead th {\n",
              "        text-align: right;\n",
              "    }\n",
              "</style>\n",
              "<table border=\"1\" class=\"dataframe\">\n",
              "  <thead>\n",
              "    <tr style=\"text-align: right;\">\n",
              "      <th></th>\n",
              "      <th>product_name</th>\n",
              "      <th>categories</th>\n",
              "      <th>ingredients_text</th>\n",
              "      <th>fat_100g</th>\n",
              "      <th>carbohydrates_100g</th>\n",
              "      <th>sugars_100g</th>\n",
              "      <th>proteins_100g</th>\n",
              "      <th>salt_100g</th>\n",
              "      <th>energy_100g</th>\n",
              "      <th>reconstructed_energy</th>\n",
              "      <th>g_sum</th>\n",
              "      <th>exceeded</th>\n",
              "      <th>cluster</th>\n",
              "    </tr>\n",
              "  </thead>\n",
              "  <tbody>\n",
              "    <tr>\n",
              "      <th>939</th>\n",
              "      <td>Piasten, Chocolate Assortment</td>\n",
              "      <td>Snack</td>\n",
              "      <td>[wheat, oil, min, humect, mass, butter, citric...</td>\n",
              "      <td>26.25</td>\n",
              "      <td>58.75</td>\n",
              "      <td>6.50</td>\n",
              "      <td>8.75</td>\n",
              "      <td>0.0300</td>\n",
              "      <td>2029.0</td>\n",
              "      <td>2171.25</td>\n",
              "      <td>93.75</td>\n",
              "      <td>0</td>\n",
              "      <td>2</td>\n",
              "    </tr>\n",
              "    <tr>\n",
              "      <th>948</th>\n",
              "      <td>Nestle, dark truffles grand chocolate</td>\n",
              "      <td>Snack</td>\n",
              "      <td>[sunflow, alkali, butter, miner, sorbitol, mil...</td>\n",
              "      <td>35.00</td>\n",
              "      <td>50.00</td>\n",
              "      <td>35.00</td>\n",
              "      <td>5.00</td>\n",
              "      <td>0.1250</td>\n",
              "      <td>1987.0</td>\n",
              "      <td>2300.00</td>\n",
              "      <td>90.00</td>\n",
              "      <td>0</td>\n",
              "      <td>2</td>\n",
              "    </tr>\n",
              "    <tr>\n",
              "      <th>953</th>\n",
              "      <td>Mt. olive, sweet 'n' hot salad peppers</td>\n",
              "      <td>Snack</td>\n",
              "      <td>[banana, natur, salt, calcium, vinegar, benoat...</td>\n",
              "      <td>0.00</td>\n",
              "      <td>32.14</td>\n",
              "      <td>25.00</td>\n",
              "      <td>0.00</td>\n",
              "      <td>1.6075</td>\n",
              "      <td>598.0</td>\n",
              "      <td>546.38</td>\n",
              "      <td>32.14</td>\n",
              "      <td>0</td>\n",
              "      <td>5</td>\n",
              "    </tr>\n",
              "    <tr>\n",
              "      <th>980</th>\n",
              "      <td>Ritter sport, knusperflakes mit knusprigen cor...</td>\n",
              "      <td>Snack</td>\n",
              "      <td>[mass, malt, lactos, natur, cream, salt, cocoa...</td>\n",
              "      <td>28.00</td>\n",
              "      <td>60.00</td>\n",
              "      <td>49.60</td>\n",
              "      <td>8.00</td>\n",
              "      <td>0.4000</td>\n",
              "      <td>2209.0</td>\n",
              "      <td>2248.00</td>\n",
              "      <td>96.00</td>\n",
              "      <td>0</td>\n",
              "      <td>2</td>\n",
              "    </tr>\n",
              "    <tr>\n",
              "      <th>990</th>\n",
              "      <td>Funsch, High Quality Marzipan</td>\n",
              "      <td>Snack</td>\n",
              "      <td>[almond, carmin, invert, food, water, sorbitol...</td>\n",
              "      <td>21.40</td>\n",
              "      <td>55.20</td>\n",
              "      <td>51.60</td>\n",
              "      <td>9.60</td>\n",
              "      <td>0.2500</td>\n",
              "      <td>1929.0</td>\n",
              "      <td>1936.20</td>\n",
              "      <td>86.20</td>\n",
              "      <td>0</td>\n",
              "      <td>6</td>\n",
              "    </tr>\n",
              "    <tr>\n",
              "      <th>991</th>\n",
              "      <td>Oatmeal Raisin Cookies</td>\n",
              "      <td>Snack</td>\n",
              "      <td>[sugar, raisin, madagascar, cut, steel, oat, c...</td>\n",
              "      <td>21.43</td>\n",
              "      <td>67.86</td>\n",
              "      <td>28.57</td>\n",
              "      <td>7.14</td>\n",
              "      <td>0.5350</td>\n",
              "      <td>1552.0</td>\n",
              "      <td>2110.77</td>\n",
              "      <td>96.43</td>\n",
              "      <td>0</td>\n",
              "      <td>6</td>\n",
              "    </tr>\n",
              "    <tr>\n",
              "      <th>992</th>\n",
              "      <td>The Best Peanut Butter Cookies</td>\n",
              "      <td>Snack</td>\n",
              "      <td>[sugar, whole, un-bleach, un-refin, butter, pe...</td>\n",
              "      <td>21.43</td>\n",
              "      <td>67.86</td>\n",
              "      <td>28.57</td>\n",
              "      <td>7.14</td>\n",
              "      <td>0.5350</td>\n",
              "      <td>1703.0</td>\n",
              "      <td>2110.77</td>\n",
              "      <td>96.43</td>\n",
              "      <td>0</td>\n",
              "      <td>6</td>\n",
              "    </tr>\n",
              "    <tr>\n",
              "      <th>993</th>\n",
              "      <td>Best Sweet-Potato Cookies</td>\n",
              "      <td>Snack</td>\n",
              "      <td>[sweet, proprietari, cranberri, bake, butter, ...</td>\n",
              "      <td>17.65</td>\n",
              "      <td>50.00</td>\n",
              "      <td>17.65</td>\n",
              "      <td>2.94</td>\n",
              "      <td>0.3675</td>\n",
              "      <td>1623.0</td>\n",
              "      <td>1588.33</td>\n",
              "      <td>70.59</td>\n",
              "      <td>0</td>\n",
              "      <td>10</td>\n",
              "    </tr>\n",
              "    <tr>\n",
              "      <th>994</th>\n",
              "      <td>Best Ginger Snap Cookies</td>\n",
              "      <td>Snack</td>\n",
              "      <td>[ginger, salt, molass, butter, flour, judy, gr...</td>\n",
              "      <td>17.65</td>\n",
              "      <td>50.00</td>\n",
              "      <td>17.65</td>\n",
              "      <td>2.94</td>\n",
              "      <td>0.3675</td>\n",
              "      <td>1623.0</td>\n",
              "      <td>1588.33</td>\n",
              "      <td>70.59</td>\n",
              "      <td>0</td>\n",
              "      <td>10</td>\n",
              "    </tr>\n",
              "    <tr>\n",
              "      <th>998</th>\n",
              "      <td>Lactaid, ice cream, vanilla</td>\n",
              "      <td>Desserts</td>\n",
              "      <td>[enym, guar, syrup, natur, lactas, gum, cream,...</td>\n",
              "      <td>11.27</td>\n",
              "      <td>22.54</td>\n",
              "      <td>16.90</td>\n",
              "      <td>2.82</td>\n",
              "      <td>0.1400</td>\n",
              "      <td>883.0</td>\n",
              "      <td>870.65</td>\n",
              "      <td>36.63</td>\n",
              "      <td>0</td>\n",
              "      <td>3</td>\n",
              "    </tr>\n",
              "  </tbody>\n",
              "</table>\n",
              "</div>"
            ],
            "text/plain": [
              "                                          product_name  ... cluster\n",
              "939                      Piasten, Chocolate Assortment  ...       2\n",
              "948              Nestle, dark truffles grand chocolate  ...       2\n",
              "953             Mt. olive, sweet 'n' hot salad peppers  ...       5\n",
              "980  Ritter sport, knusperflakes mit knusprigen cor...  ...       2\n",
              "990                      Funsch, High Quality Marzipan  ...       6\n",
              "991                             Oatmeal Raisin Cookies  ...       6\n",
              "992                     The Best Peanut Butter Cookies  ...       6\n",
              "993                          Best Sweet-Potato Cookies  ...      10\n",
              "994                           Best Ginger Snap Cookies  ...      10\n",
              "998                        Lactaid, ice cream, vanilla  ...       3\n",
              "\n",
              "[10 rows x 13 columns]"
            ]
          },
          "metadata": {},
          "execution_count": 91
        }
      ]
    },
    {
      "cell_type": "code",
      "metadata": {
        "colab": {
          "base_uri": "https://localhost:8080/"
        },
        "id": "KXGT4j27_SXq",
        "outputId": "6914e8fd-e22e-460f-d968-c8e61644c6a9"
      },
      "source": [
        "results.cluster.value_counts()"
      ],
      "execution_count": null,
      "outputs": [
        {
          "output_type": "execute_result",
          "data": {
            "text/plain": [
              "10    18690\n",
              "7     14848\n",
              "0     14697\n",
              "6     14278\n",
              "2     13756\n",
              "1     12217\n",
              "8     11021\n",
              "3     10881\n",
              "9      7191\n",
              "5      7059\n",
              "4      1753\n",
              "Name: cluster, dtype: int64"
            ]
          },
          "metadata": {},
          "execution_count": 92
        }
      ]
    },
    {
      "cell_type": "code",
      "metadata": {
        "colab": {
          "base_uri": "https://localhost:8080/",
          "height": 668
        },
        "id": "gTAZmY8E_aEX",
        "outputId": "9a4edc0b-00bf-4fe9-94fc-6a7112baa8a1"
      },
      "source": [
        "cluster_10=results[results.cluster==10]\n",
        "cluster_10.head(10)"
      ],
      "execution_count": null,
      "outputs": [
        {
          "output_type": "execute_result",
          "data": {
            "text/html": [
              "<div>\n",
              "<style scoped>\n",
              "    .dataframe tbody tr th:only-of-type {\n",
              "        vertical-align: middle;\n",
              "    }\n",
              "\n",
              "    .dataframe tbody tr th {\n",
              "        vertical-align: top;\n",
              "    }\n",
              "\n",
              "    .dataframe thead th {\n",
              "        text-align: right;\n",
              "    }\n",
              "</style>\n",
              "<table border=\"1\" class=\"dataframe\">\n",
              "  <thead>\n",
              "    <tr style=\"text-align: right;\">\n",
              "      <th></th>\n",
              "      <th>product_name</th>\n",
              "      <th>categories</th>\n",
              "      <th>ingredients_text</th>\n",
              "      <th>fat_100g</th>\n",
              "      <th>carbohydrates_100g</th>\n",
              "      <th>sugars_100g</th>\n",
              "      <th>proteins_100g</th>\n",
              "      <th>salt_100g</th>\n",
              "      <th>energy_100g</th>\n",
              "      <th>reconstructed_energy</th>\n",
              "      <th>g_sum</th>\n",
              "      <th>exceeded</th>\n",
              "      <th>cluster</th>\n",
              "    </tr>\n",
              "  </thead>\n",
              "  <tbody>\n",
              "    <tr>\n",
              "      <th>993</th>\n",
              "      <td>Best Sweet-Potato Cookies</td>\n",
              "      <td>Snack</td>\n",
              "      <td>[sweet, proprietari, cranberri, bake, butter, ...</td>\n",
              "      <td>17.65</td>\n",
              "      <td>50.00</td>\n",
              "      <td>17.65</td>\n",
              "      <td>2.94</td>\n",
              "      <td>0.3675</td>\n",
              "      <td>1623.0</td>\n",
              "      <td>1588.33</td>\n",
              "      <td>70.59</td>\n",
              "      <td>0</td>\n",
              "      <td>10</td>\n",
              "    </tr>\n",
              "    <tr>\n",
              "      <th>994</th>\n",
              "      <td>Best Ginger Snap Cookies</td>\n",
              "      <td>Snack</td>\n",
              "      <td>[ginger, salt, molass, butter, flour, judy, gr...</td>\n",
              "      <td>17.65</td>\n",
              "      <td>50.00</td>\n",
              "      <td>17.65</td>\n",
              "      <td>2.94</td>\n",
              "      <td>0.3675</td>\n",
              "      <td>1623.0</td>\n",
              "      <td>1588.33</td>\n",
              "      <td>70.59</td>\n",
              "      <td>0</td>\n",
              "      <td>10</td>\n",
              "    </tr>\n",
              "    <tr>\n",
              "      <th>1274</th>\n",
              "      <td>Candy crush, sugar crush crunchy and crackling...</td>\n",
              "      <td>Snack</td>\n",
              "      <td>[natur, caramin, carbon, wax, candi, flavor, m...</td>\n",
              "      <td>0.00</td>\n",
              "      <td>100.00</td>\n",
              "      <td>90.00</td>\n",
              "      <td>0.00</td>\n",
              "      <td>0.0250</td>\n",
              "      <td>1674.0</td>\n",
              "      <td>1700.00</td>\n",
              "      <td>100.00</td>\n",
              "      <td>0</td>\n",
              "      <td>10</td>\n",
              "    </tr>\n",
              "    <tr>\n",
              "      <th>1310</th>\n",
              "      <td>Welch's, golden apple chips</td>\n",
              "      <td>Snack</td>\n",
              "      <td>[fresh, appl, preserv, sulphit, sodium]</td>\n",
              "      <td>0.00</td>\n",
              "      <td>92.86</td>\n",
              "      <td>78.57</td>\n",
              "      <td>0.00</td>\n",
              "      <td>1.6075</td>\n",
              "      <td>1644.0</td>\n",
              "      <td>1578.62</td>\n",
              "      <td>92.86</td>\n",
              "      <td>0</td>\n",
              "      <td>10</td>\n",
              "    </tr>\n",
              "    <tr>\n",
              "      <th>1312</th>\n",
              "      <td>Green apple chips</td>\n",
              "      <td>Snack</td>\n",
              "      <td>[natur, appl, flavor]</td>\n",
              "      <td>0.00</td>\n",
              "      <td>92.86</td>\n",
              "      <td>75.00</td>\n",
              "      <td>0.00</td>\n",
              "      <td>0.0000</td>\n",
              "      <td>1644.0</td>\n",
              "      <td>1578.62</td>\n",
              "      <td>92.86</td>\n",
              "      <td>0</td>\n",
              "      <td>10</td>\n",
              "    </tr>\n",
              "    <tr>\n",
              "      <th>1447</th>\n",
              "      <td>Brownie mix</td>\n",
              "      <td>Snack</td>\n",
              "      <td>[soybean, alkali, cottonse, folic, wheat, iron...</td>\n",
              "      <td>3.85</td>\n",
              "      <td>82.05</td>\n",
              "      <td>46.15</td>\n",
              "      <td>7.69</td>\n",
              "      <td>0.9625</td>\n",
              "      <td>1611.0</td>\n",
              "      <td>1675.73</td>\n",
              "      <td>93.59</td>\n",
              "      <td>0</td>\n",
              "      <td>10</td>\n",
              "    </tr>\n",
              "    <tr>\n",
              "      <th>1456</th>\n",
              "      <td>Biscuit mix</td>\n",
              "      <td>Snack</td>\n",
              "      <td>[soybean, folic, malt, wheat, iron, oil, salt,...</td>\n",
              "      <td>16.67</td>\n",
              "      <td>54.76</td>\n",
              "      <td>4.76</td>\n",
              "      <td>11.90</td>\n",
              "      <td>1.4875</td>\n",
              "      <td>1795.0</td>\n",
              "      <td>1783.35</td>\n",
              "      <td>83.33</td>\n",
              "      <td>0</td>\n",
              "      <td>10</td>\n",
              "    </tr>\n",
              "    <tr>\n",
              "      <th>1462</th>\n",
              "      <td>Soup mix</td>\n",
              "      <td>Soap</td>\n",
              "      <td>[oil, lactic, salt, yeast, cultur, phosphat, m...</td>\n",
              "      <td>15.22</td>\n",
              "      <td>60.87</td>\n",
              "      <td>17.39</td>\n",
              "      <td>8.70</td>\n",
              "      <td>5.3250</td>\n",
              "      <td>1728.0</td>\n",
              "      <td>1776.27</td>\n",
              "      <td>84.79</td>\n",
              "      <td>0</td>\n",
              "      <td>10</td>\n",
              "    </tr>\n",
              "    <tr>\n",
              "      <th>2858</th>\n",
              "      <td>Specialita le italiane, hard filled candy</td>\n",
              "      <td>Snack</td>\n",
              "      <td>[sugar, pgi, orang, juic, sicili, acid, natur,...</td>\n",
              "      <td>0.00</td>\n",
              "      <td>92.86</td>\n",
              "      <td>78.57</td>\n",
              "      <td>0.00</td>\n",
              "      <td>0.0000</td>\n",
              "      <td>1795.0</td>\n",
              "      <td>1578.62</td>\n",
              "      <td>92.86</td>\n",
              "      <td>0</td>\n",
              "      <td>10</td>\n",
              "    </tr>\n",
              "    <tr>\n",
              "      <th>3441</th>\n",
              "      <td>Old-fashioned glazed dunkers, glazed</td>\n",
              "      <td>Snack</td>\n",
              "      <td>[soybean, folic, malt, natur, wheat, iron, oil...</td>\n",
              "      <td>16.22</td>\n",
              "      <td>56.76</td>\n",
              "      <td>32.43</td>\n",
              "      <td>2.70</td>\n",
              "      <td>1.0125</td>\n",
              "      <td>1582.0</td>\n",
              "      <td>1643.40</td>\n",
              "      <td>75.68</td>\n",
              "      <td>0</td>\n",
              "      <td>10</td>\n",
              "    </tr>\n",
              "  </tbody>\n",
              "</table>\n",
              "</div>"
            ],
            "text/plain": [
              "                                           product_name  ... cluster\n",
              "993                           Best Sweet-Potato Cookies  ...      10\n",
              "994                            Best Ginger Snap Cookies  ...      10\n",
              "1274  Candy crush, sugar crush crunchy and crackling...  ...      10\n",
              "1310                        Welch's, golden apple chips  ...      10\n",
              "1312                                  Green apple chips  ...      10\n",
              "1447                                        Brownie mix  ...      10\n",
              "1456                                        Biscuit mix  ...      10\n",
              "1462                                           Soup mix  ...      10\n",
              "2858          Specialita le italiane, hard filled candy  ...      10\n",
              "3441               Old-fashioned glazed dunkers, glazed  ...      10\n",
              "\n",
              "[10 rows x 13 columns]"
            ]
          },
          "metadata": {},
          "execution_count": 93
        }
      ]
    },
    {
      "cell_type": "code",
      "metadata": {
        "colab": {
          "base_uri": "https://localhost:8080/"
        },
        "id": "DUFrERc9_oOP",
        "outputId": "82f5ee79-f6af-4db8-f512-6cfdecf594a1"
      },
      "source": [
        "cluster_10.categories.value_counts()"
      ],
      "execution_count": null,
      "outputs": [
        {
          "output_type": "execute_result",
          "data": {
            "text/plain": [
              "Snack       14514\n",
              "Cheese       3332\n",
              "Meat          307\n",
              "Drinks        238\n",
              "Desserts      180\n",
              "Soap           89\n",
              "Milk           18\n",
              "Pizza           5\n",
              "Seafood         5\n",
              "Yagurk          2\n",
              "Name: categories, dtype: int64"
            ]
          },
          "metadata": {},
          "execution_count": 94
        }
      ]
    },
    {
      "cell_type": "markdown",
      "metadata": {
        "id": "TKkKDoUCDG6R"
      },
      "source": [
        "For exemple this is the outlier"
      ]
    },
    {
      "cell_type": "code",
      "metadata": {
        "colab": {
          "base_uri": "https://localhost:8080/",
          "height": 264
        },
        "id": "qH-O1X2SCsb3",
        "outputId": "831f06b7-5063-4b66-ba87-5c878061013f"
      },
      "source": [
        "cluster_7[cluster_7.categories=='Yagurk']"
      ],
      "execution_count": null,
      "outputs": [
        {
          "output_type": "execute_result",
          "data": {
            "text/html": [
              "<div>\n",
              "<style scoped>\n",
              "    .dataframe tbody tr th:only-of-type {\n",
              "        vertical-align: middle;\n",
              "    }\n",
              "\n",
              "    .dataframe tbody tr th {\n",
              "        vertical-align: top;\n",
              "    }\n",
              "\n",
              "    .dataframe thead th {\n",
              "        text-align: right;\n",
              "    }\n",
              "</style>\n",
              "<table border=\"1\" class=\"dataframe\">\n",
              "  <thead>\n",
              "    <tr style=\"text-align: right;\">\n",
              "      <th></th>\n",
              "      <th>product_name</th>\n",
              "      <th>categories</th>\n",
              "      <th>ingredients_text</th>\n",
              "      <th>fat_100g</th>\n",
              "      <th>carbohydrates_100g</th>\n",
              "      <th>sugars_100g</th>\n",
              "      <th>proteins_100g</th>\n",
              "      <th>salt_100g</th>\n",
              "      <th>energy_100g</th>\n",
              "      <th>reconstructed_energy</th>\n",
              "      <th>g_sum</th>\n",
              "      <th>exceeded</th>\n",
              "      <th>cluster</th>\n",
              "      <th>certainty</th>\n",
              "    </tr>\n",
              "  </thead>\n",
              "  <tbody>\n",
              "    <tr>\n",
              "      <th>257346</th>\n",
              "      <td>Strawberry parfait</td>\n",
              "      <td>Yagurk</td>\n",
              "      <td>[guar, oil, phosphat, starch, juic, fat, flavo...</td>\n",
              "      <td>11.538462</td>\n",
              "      <td>46.153846</td>\n",
              "      <td>33.333333</td>\n",
              "      <td>2.564103</td>\n",
              "      <td>0.833333</td>\n",
              "      <td>1287.0</td>\n",
              "      <td>1278.205128</td>\n",
              "      <td>60.256410</td>\n",
              "      <td>0</td>\n",
              "      <td>7</td>\n",
              "      <td>0.51</td>\n",
              "    </tr>\n",
              "    <tr>\n",
              "      <th>349639</th>\n",
              "      <td>Chewy chocolate chip</td>\n",
              "      <td>Yagurk</td>\n",
              "      <td>[cherri, guar, natur, hibiscus-carrot, bean, c...</td>\n",
              "      <td>14.583333</td>\n",
              "      <td>70.833333</td>\n",
              "      <td>29.166667</td>\n",
              "      <td>4.166667</td>\n",
              "      <td>0.729167</td>\n",
              "      <td>1743.0</td>\n",
              "      <td>1843.750000</td>\n",
              "      <td>89.583333</td>\n",
              "      <td>0</td>\n",
              "      <td>7</td>\n",
              "      <td>1.00</td>\n",
              "    </tr>\n",
              "    <tr>\n",
              "      <th>389258</th>\n",
              "      <td>Chocolate mousse</td>\n",
              "      <td>Yagurk</td>\n",
              "      <td>[guar, oil, cream, liquor, calcium, cellulos, ...</td>\n",
              "      <td>25.330000</td>\n",
              "      <td>46.670000</td>\n",
              "      <td>36.000000</td>\n",
              "      <td>2.670000</td>\n",
              "      <td>0.632500</td>\n",
              "      <td>1841.0</td>\n",
              "      <td>1826.650000</td>\n",
              "      <td>74.670000</td>\n",
              "      <td>0</td>\n",
              "      <td>7</td>\n",
              "      <td>0.99</td>\n",
              "    </tr>\n",
              "  </tbody>\n",
              "</table>\n",
              "</div>"
            ],
            "text/plain": [
              "                product_name categories  ... cluster  certainty\n",
              "257346    Strawberry parfait     Yagurk  ...       7       0.51\n",
              "349639  Chewy chocolate chip     Yagurk  ...       7       1.00\n",
              "389258      Chocolate mousse     Yagurk  ...       7       0.99\n",
              "\n",
              "[3 rows x 14 columns]"
            ]
          },
          "metadata": {},
          "execution_count": 95
        }
      ]
    },
    {
      "cell_type": "markdown",
      "metadata": {
        "id": "KZSiBv-GHUGS"
      },
      "source": [
        "# Visualisation"
      ]
    },
    {
      "cell_type": "code",
      "metadata": {
        "colab": {
          "base_uri": "https://localhost:8080/",
          "height": 411
        },
        "id": "OGjqDXhvFfSU",
        "outputId": "d514604d-ba9b-4ffd-ac07-0adb9573d207"
      },
      "source": [
        "new_openfoods.head()"
      ],
      "execution_count": null,
      "outputs": [
        {
          "output_type": "execute_result",
          "data": {
            "text/html": [
              "<div>\n",
              "<style scoped>\n",
              "    .dataframe tbody tr th:only-of-type {\n",
              "        vertical-align: middle;\n",
              "    }\n",
              "\n",
              "    .dataframe tbody tr th {\n",
              "        vertical-align: top;\n",
              "    }\n",
              "\n",
              "    .dataframe thead th {\n",
              "        text-align: right;\n",
              "    }\n",
              "</style>\n",
              "<table border=\"1\" class=\"dataframe\">\n",
              "  <thead>\n",
              "    <tr style=\"text-align: right;\">\n",
              "      <th></th>\n",
              "      <th>product_name</th>\n",
              "      <th>categories</th>\n",
              "      <th>ingredients_text</th>\n",
              "      <th>fat_100g</th>\n",
              "      <th>carbohydrates_100g</th>\n",
              "      <th>sugars_100g</th>\n",
              "      <th>proteins_100g</th>\n",
              "      <th>salt_100g</th>\n",
              "      <th>energy_100g</th>\n",
              "      <th>reconstructed_energy</th>\n",
              "      <th>g_sum</th>\n",
              "      <th>exceeded</th>\n",
              "    </tr>\n",
              "  </thead>\n",
              "  <tbody>\n",
              "    <tr>\n",
              "      <th>939</th>\n",
              "      <td>Piasten, Chocolate Assortment</td>\n",
              "      <td>Snack</td>\n",
              "      <td>[wheat, oil, min, humect, mass, butter, citric...</td>\n",
              "      <td>26.25</td>\n",
              "      <td>58.75</td>\n",
              "      <td>6.5</td>\n",
              "      <td>8.75</td>\n",
              "      <td>0.0300</td>\n",
              "      <td>2029.0</td>\n",
              "      <td>2171.25</td>\n",
              "      <td>93.75</td>\n",
              "      <td>0</td>\n",
              "    </tr>\n",
              "    <tr>\n",
              "      <th>948</th>\n",
              "      <td>Nestle, dark truffles grand chocolate</td>\n",
              "      <td>Snack</td>\n",
              "      <td>[sunflow, alkali, butter, miner, sorbitol, mil...</td>\n",
              "      <td>35.00</td>\n",
              "      <td>50.00</td>\n",
              "      <td>35.0</td>\n",
              "      <td>5.00</td>\n",
              "      <td>0.1250</td>\n",
              "      <td>1987.0</td>\n",
              "      <td>2300.00</td>\n",
              "      <td>90.00</td>\n",
              "      <td>0</td>\n",
              "    </tr>\n",
              "    <tr>\n",
              "      <th>953</th>\n",
              "      <td>Mt. olive, sweet 'n' hot salad peppers</td>\n",
              "      <td>Snack</td>\n",
              "      <td>[banana, natur, salt, calcium, vinegar, benoat...</td>\n",
              "      <td>0.00</td>\n",
              "      <td>32.14</td>\n",
              "      <td>25.0</td>\n",
              "      <td>0.00</td>\n",
              "      <td>1.6075</td>\n",
              "      <td>598.0</td>\n",
              "      <td>546.38</td>\n",
              "      <td>32.14</td>\n",
              "      <td>0</td>\n",
              "    </tr>\n",
              "    <tr>\n",
              "      <th>980</th>\n",
              "      <td>Ritter sport, knusperflakes mit knusprigen cor...</td>\n",
              "      <td>Snack</td>\n",
              "      <td>[mass, malt, lactos, natur, cream, salt, cocoa...</td>\n",
              "      <td>28.00</td>\n",
              "      <td>60.00</td>\n",
              "      <td>49.6</td>\n",
              "      <td>8.00</td>\n",
              "      <td>0.4000</td>\n",
              "      <td>2209.0</td>\n",
              "      <td>2248.00</td>\n",
              "      <td>96.00</td>\n",
              "      <td>0</td>\n",
              "    </tr>\n",
              "    <tr>\n",
              "      <th>990</th>\n",
              "      <td>Funsch, High Quality Marzipan</td>\n",
              "      <td>Snack</td>\n",
              "      <td>[almond, carmin, invert, food, water, sorbitol...</td>\n",
              "      <td>21.40</td>\n",
              "      <td>55.20</td>\n",
              "      <td>51.6</td>\n",
              "      <td>9.60</td>\n",
              "      <td>0.2500</td>\n",
              "      <td>1929.0</td>\n",
              "      <td>1936.20</td>\n",
              "      <td>86.20</td>\n",
              "      <td>0</td>\n",
              "    </tr>\n",
              "  </tbody>\n",
              "</table>\n",
              "</div>"
            ],
            "text/plain": [
              "                                          product_name  ... exceeded\n",
              "939                      Piasten, Chocolate Assortment  ...        0\n",
              "948              Nestle, dark truffles grand chocolate  ...        0\n",
              "953             Mt. olive, sweet 'n' hot salad peppers  ...        0\n",
              "980  Ritter sport, knusperflakes mit knusprigen cor...  ...        0\n",
              "990                      Funsch, High Quality Marzipan  ...        0\n",
              "\n",
              "[5 rows x 12 columns]"
            ]
          },
          "metadata": {},
          "execution_count": 96
        }
      ]
    },
    {
      "cell_type": "code",
      "metadata": {
        "id": "GybTep52KQHs"
      },
      "source": [
        ""
      ],
      "execution_count": null,
      "outputs": []
    },
    {
      "cell_type": "code",
      "metadata": {
        "colab": {
          "base_uri": "https://localhost:8080/",
          "height": 946
        },
        "id": "RGsATpXQJVJW",
        "outputId": "492eabab-1cdb-475e-8623-62fc1560e12b"
      },
      "source": [
        "plt.figure(figsize=(20, 20))\n",
        "plt.hist(x=new_openfoods.categories,bins=20,\n",
        "        color=\"steelblue\",\n",
        "        edgecolor=\"black\")\n",
        "\n",
        "#add x y labels\n",
        "plt.xlabel(\"Cattegories\")\n",
        "plt.ylabel(\"Number\")\n",
        "\n",
        "#add title\n",
        "plt.title(\"\")\n",
        "\n",
        "plt.show()\n"
      ],
      "execution_count": null,
      "outputs": [
        {
          "output_type": "display_data",
          "data": {
            "image/png": "[encoded data removed]",
            "text/plain": [
              "<Figure size 1440x1440 with 1 Axes>"
            ]
          },
          "metadata": {
            "needs_background": "light"
          }
        }
      ]
    },
    {
      "cell_type": "code",
      "metadata": {
        "id": "4ub1n361LoTP"
      },
      "source": [
        ""
      ],
      "execution_count": null,
      "outputs": []
    }
  ]
}